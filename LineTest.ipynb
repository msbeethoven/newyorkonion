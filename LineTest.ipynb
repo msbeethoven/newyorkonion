{
 "cells": [
  {
   "cell_type": "markdown",
   "metadata": {},
   "source": [
    "# The Line\n",
    "\n",
    "By [Allison Parrish](http://www.decontextualize.com/)\n",
    "\n",
    "Note: These notes are still incomplete!\n",
    "\n",
    "Make sure to download [this file](http://rwet.decontextualize.com/texts/plain-text-example-files.zip) and extract the contents to the same directory where you put this notebook."
   ]
  },
  {
   "cell_type": "markdown",
   "metadata": {},
   "source": [
    "## List comprehensions\n",
    "\n",
    "Don't worry if this doesn't make sense at the moment. I just want to have some common vocabulary.\n",
    "\n",
    "A list comprehension in Python is a way to take a list of things—say, numbers, words, or in our case, lines of text in a text file—and manipulate that sequence. A list comprehension looks like this:\n",
    "\n",
    "> `[` *predicate-expression* `for` *temporary-variable-name* `in` *source-list* `if` *membership-expression* `]`\n",
    "\n",
    "That's a lot of weird stuff. Here's a rundown of the parts:\n",
    "\n",
    "* a *source list*, or the list whose values will be transformed or filtered;\n",
    "* a *predicate expression*, to be evaluated for every item in the list;\n",
    "* (optionally) a *membership expression* that determines whether or not an item in the source list will be included in the result of evaluating the list comprehension, based on whether the expression evaluates to True or False; and\n",
    "* a *temporary variable name* by which each value from the source list will be known in the predicate expression and membership expression.\n",
    "\n",
    "Put all that on the back burner for a second. For the most part, in the rest of this notebook, you won't be writing list comprehensions from scratch---you'll be making tweaks to list comprehensions I've already written for you. But having an idea about how they're put together will help you reason about which parts you can change and how you can change them.\n",
    "\n",
    "The list comprehension in the next cell uses a *plain text file* as the source list. The *temporary variable name* is `line` and the *predicate expression* simply removes white space (like space characters, tabs, and newline characters) from the end of the line. Highlight the cell and hit Ctrl+Enter to run it."
   ]
  },
  {
   "cell_type": "code",
   "execution_count": 2,
   "metadata": {
    "scrolled": false
   },
   "outputs": [
    {
     "data": {
      "text/plain": [
       "['WASHINGTON—Overcome by the touching contribution, Senator Roy Blunt (R-MO) was reportedly moved to tears Friday after reading a constituent’s heartfelt check. “It’s hard not to get choked up when someone takes the time to actually pick up a pen and write out such a sincere contribution by hand,” said Blunt, adding that he had been particularly affected by the amount of the check, which he had reread several times. “Having spent a decade and a half in Washington, it’s so gratifying to know that you’re still reaching the people you were elected to represent back home. I’ll cherish this forever.” At press time, Blunt had written back to his constituent to express how much the check had meant and urged him to write again anytime he wanted.']"
      ]
     },
     "execution_count": 2,
     "metadata": {},
     "output_type": "execute_result"
    }
   ],
   "source": [
    "[line.strip() for line in open(\"senator.txt\")]"
   ]
  },
  {
   "cell_type": "markdown",
   "metadata": {},
   "source": [
    "This is a really simple list comprehension: all it does is read in the contents of a text file, line by line, and put those lines into a Python data structure (a list). Not exciting on its own, but it's an important building block.\n",
    "\n",
    "An easy change you can make to this list comprehension is to modify the name of the file between the quotation marks. For example, to show some Robert Frost instead of H.D.:"
   ]
  },
  {
   "cell_type": "code",
   "execution_count": 4,
   "metadata": {},
   "outputs": [
    {
     "data": {
      "text/plain": [
       "['WASHINGTON—Overcome by the touching contribution, Senator Roy Blunt (R-MO) was reportedly moved to tears Friday after reading a constituent’s heartfelt check. “It’s hard not to get choked up when someone takes the time to actually pick up a pen and write out such a sincere contribution by hand,” said Blunt, adding that he had been particularly affected by the amount of the check, which he had reread several times. “Having spent a decade and a half in Washington, it’s so gratifying to know that you’re still reaching the people you were elected to represent back home. I’ll cherish this forever.” At press time, Blunt had written back to his constituent to express how much the check had meant and urged him to write again anytime he wanted.']"
      ]
     },
     "execution_count": 4,
     "metadata": {},
     "output_type": "execute_result"
    }
   ],
   "source": [
    "[line.strip() for line in open(\"senator.txt\")]"
   ]
  },
  {
   "cell_type": "markdown",
   "metadata": {},
   "source": [
    "If you want to experiment with your own texts, [Project Gutenberg](http://www.gutenberg.org/) is a good place to look for plain text files in the public domain. [Why not try some Imagists?](http://www.gutenberg.org/ebooks/30276)\n",
    "\n",
    "If you're not sure what I mean by \"plain text,\" [take a look at this tutorial](http://air.decontextualize.com/plain-text/)."
   ]
  },
  {
   "cell_type": "markdown",
   "metadata": {},
   "source": [
    "## What can you even do with a list comprehension\n",
    "\n",
    "Good question! Before we proceed, run the cell below (Ctrl+Enter)---it defines a few helpful functions for working with the lists that result from list comprehensions."
   ]
  },
  {
   "cell_type": "code",
   "execution_count": 89,
   "metadata": {
    "collapsed": true
   },
   "outputs": [],
   "source": [
    "def textify(t, sep=\"\\n\"):\n",
    "    print(sep.join(t))\n",
    "\n",
    "def exporttext(filename, t, sep=\"\\n\"):\n",
    "    with open(filename, \"w\") as fh:\n",
    "        fh.write(sep.join(t))"
   ]
  },
  {
   "cell_type": "markdown",
   "metadata": {},
   "source": [
    "For our purposes, you can do *four* things with a list comprehension. First, run it on its own:"
   ]
  },
  {
   "cell_type": "code",
   "execution_count": 90,
   "metadata": {
    "scrolled": false
   },
   "outputs": [
    {
     "data": {
      "text/plain": [
       "['WASHINGTON—Overcome by the touching contribution, Senator Roy Blunt (R-MO) was reportedly moved to tears Friday after reading a constituent’s heartfelt check. “It’s hard not to get choked up when someone takes the time to actually pick up a pen and write out such a sincere contribution by hand,” said Blunt, adding that he had been particularly affected by the amount of the check, which he had reread several times. “Having spent a decade and a half in Washington, it’s so gratifying to know that you’re still reaching the people you were elected to represent back home. I’ll cherish this forever.” At press time, Blunt had written back to his constituent to express how much the check had meant and urged him to write again anytime he wanted.']"
      ]
     },
     "execution_count": 90,
     "metadata": {},
     "output_type": "execute_result"
    }
   ],
   "source": [
    "[line.strip() for line in open(\"senator.txt\")]"
   ]
  },
  {
   "cell_type": "markdown",
   "metadata": {},
   "source": [
    "This displays the underlying Python data structure (a list). All those extra quotation marks, commas and brackets are part of the syntax Python needs to represent the data.\n",
    "\n",
    "Second, you can \"textify\" the list comprehension using the function `textify`, which is defined above. (Make sure you run the cell containing the function definition before you use the function itself.) The `textify` function displays the result of the list comprehension as plain text, which is easy to read and can be copied and pasted into a Facebook update or an e-mail or something."
   ]
  },
  {
   "cell_type": "code",
   "execution_count": 91,
   "metadata": {
    "scrolled": true
   },
   "outputs": [
    {
     "name": "stdout",
     "output_type": "stream",
     "text": [
      "WASHINGTON—Overcome by the touching contribution, Senator Roy Blunt (R-MO) was reportedly moved to tears Friday after reading a constituent’s heartfelt check. “It’s hard not to get choked up when someone takes the time to actually pick up a pen and write out such a sincere contribution by hand,” said Blunt, adding that he had been particularly affected by the amount of the check, which he had reread several times. “Having spent a decade and a half in Washington, it’s so gratifying to know that you’re still reaching the people you were elected to represent back home. I’ll cherish this forever.” At press time, Blunt had written back to his constituent to express how much the check had meant and urged him to write again anytime he wanted.\n"
     ]
    }
   ],
   "source": [
    "textify([line.strip() for line in open(\"senator.txt\")])"
   ]
  },
  {
   "cell_type": "markdown",
   "metadata": {},
   "source": [
    "Third, you can put the list comprehension in a call to the `exporttext` function (defined above---again, make sure to run the cell containing the function before calling it in the cells below), which takes the result of a list comprehension and writes it to your hard disk as a plain text file. This function takes two parameters: the first is a filename (inside of quotation marks); the second is the list comprehension that you want to write to a file. Run the cell below and look in the directory where this notebook lives: you'll see a file called `sea_rose_copy.txt` that has the same contents as `sea_rose.txt`.\n",
    "\n",
    "Note: Unlike the previous two things, the `exporttext` function doesn't display anything if it works---it just silently does its job."
   ]
  },
  {
   "cell_type": "code",
   "execution_count": 93,
   "metadata": {},
   "outputs": [],
   "source": [
    "exporttext(\"senator_copy.txt\", [line.strip() for line in open(\"senator.txt\")])"
   ]
  },
  {
   "cell_type": "markdown",
   "metadata": {},
   "source": [
    "Finally, you can assign the result of the list comprehension to a *variable*. To do this, type a `=` and put the list comprehension on the right side of the `=`, and to the left of the `=`, type a name. Assigning a list comprehension to a variable lets you store the results of the list comprehension for later. You can use the name of the variable anywhere in the notebook where normally you would have put the entire list comprehension. (This is especially helpful for *chaining* list comprehensions that would otherwise be complicated or cumbersome.)\n",
    "\n",
    "Variable names should consist of lowercase letters and underscores only. (The [rules for valid variable names in Python are actually more complicated than this](https://docs.python.org/3/reference/lexical_analysis.html#identifiers) but \"just lowercase letters and underscores\" is a good rule of thumb.)\n",
    "\n",
    "For example, the code in the following cell assigns the result of the list comprehension to a variable called `sea_rose`:"
   ]
  },
  {
   "cell_type": "code",
   "execution_count": 94,
   "metadata": {
    "collapsed": true
   },
   "outputs": [],
   "source": [
    "senator = [line.strip() for line in open(\"senator.txt\")]"
   ]
  },
  {
   "cell_type": "markdown",
   "metadata": {},
   "source": [
    "And now you can use `sea_rose` in calls to `textify` and `exporttext`:"
   ]
  },
  {
   "cell_type": "code",
   "execution_count": 95,
   "metadata": {},
   "outputs": [
    {
     "name": "stdout",
     "output_type": "stream",
     "text": [
      "WASHINGTON—Overcome by the touching contribution, Senator Roy Blunt (R-MO) was reportedly moved to tears Friday after reading a constituent’s heartfelt check. “It’s hard not to get choked up when someone takes the time to actually pick up a pen and write out such a sincere contribution by hand,” said Blunt, adding that he had been particularly affected by the amount of the check, which he had reread several times. “Having spent a decade and a half in Washington, it’s so gratifying to know that you’re still reaching the people you were elected to represent back home. I’ll cherish this forever.” At press time, Blunt had written back to his constituent to express how much the check had meant and urged him to write again anytime he wanted.\n"
     ]
    }
   ],
   "source": [
    "exporttext(\"senator_copy.txt\", senator)\n",
    "textify(senator)"
   ]
  },
  {
   "cell_type": "markdown",
   "metadata": {},
   "source": [
    "Importantly, you can use the variable `sea_rose` as the \"source list\" in a list comprehension:"
   ]
  },
  {
   "cell_type": "code",
   "execution_count": 96,
   "metadata": {
    "scrolled": true
   },
   "outputs": [
    {
     "name": "stdout",
     "output_type": "stream",
     "text": [
      "WASHI\n"
     ]
    }
   ],
   "source": [
    "textify([line[:5] for line in senator])"
   ]
  },
  {
   "cell_type": "markdown",
   "metadata": {},
   "source": [
    "## Transforming strings: the predicate expression\n",
    "\n",
    "Wait, how did I do that thing with that poem, where the letters are all weird? It's like this weird pomo l=a=n=g=u=a=g=e poetry now. Completely unpublishable, I'll get kicked right out of the Iowa Writer's Workshop. *Very* cool.\n",
    "\n",
    "It turns out you can make changes to the *predicate expression* in order to make changes to the way the text looks in the output. We're modifying the text by *transforming* the strings. There are a handful of really easy things you can do to strings of characters in Python to make the text do weird and interesting things. I'm going to show you a few.\n",
    "\n",
    "First, I'm going to make a variable called `poem` and assign to it the result of reading in that Robert Frost poem. The road one where he decides to take a road, but not another road, and it is very momentous."
   ]
  },
  {
   "cell_type": "code",
   "execution_count": 97,
   "metadata": {
    "collapsed": true
   },
   "outputs": [],
   "source": [
    "poem = [line.strip() for line in open(\"senator.txt\")]"
   ]
  },
  {
   "cell_type": "markdown",
   "metadata": {},
   "source": [
    "What we want to do now is write a list comprehension that transforms the lines in the poem somehow. The key to this is to change the *predicate expression* in a list comprehension. The simplest possible text transformation is nothing at all: just make a new list that looks like the old list in every way."
   ]
  },
  {
   "cell_type": "code",
   "execution_count": 98,
   "metadata": {},
   "outputs": [
    {
     "data": {
      "text/plain": [
       "['WASHINGTON—Overcome by the touching contribution, Senator Roy Blunt (R-MO) was reportedly moved to tears Friday after reading a constituent’s heartfelt check. “It’s hard not to get choked up when someone takes the time to actually pick up a pen and write out such a sincere contribution by hand,” said Blunt, adding that he had been particularly affected by the amount of the check, which he had reread several times. “Having spent a decade and a half in Washington, it’s so gratifying to know that you’re still reaching the people you were elected to represent back home. I’ll cherish this forever.” At press time, Blunt had written back to his constituent to express how much the check had meant and urged him to write again anytime he wanted.']"
      ]
     },
     "execution_count": 98,
     "metadata": {},
     "output_type": "execute_result"
    }
   ],
   "source": [
    "[line for line in poem]"
   ]
  },
  {
   "cell_type": "markdown",
   "metadata": {},
   "source": [
    "That list comprehension basically translates to the following: \"Hey python, hey yes you, python! Take a look at the list of strings in the variable `poem` that I defined earlier. I want you to make a new list, and here's how that new list should look: for every item of that list—let's call the item `line`—put an item with whatever that line is into the new list.\" Python: \"So, uh, make a copy of the list?\" You: \"Yeah I guess basically.\"\n",
    "\n",
    "Another simple transformation is to not do anything with the data in the line at all, and have Python put another string altogether into the new list:"
   ]
  },
  {
   "cell_type": "code",
   "execution_count": 16,
   "metadata": {},
   "outputs": [
    {
     "data": {
      "text/plain": [
       "[\"I'm Robert Frost, howdy howdy howdy\"]"
      ]
     },
     "execution_count": 16,
     "metadata": {},
     "output_type": "execute_result"
    }
   ],
   "source": [
    "[\"I'm Robert Frost, howdy howdy howdy\" for line in poem]"
   ]
  },
  {
   "cell_type": "markdown",
   "metadata": {},
   "source": [
    "Neither of these are interesting from anything other than a theoretical perspective, which means if you're a humanities scholar or something you can just stop here and start typing up your monograph on conceptions of identity and iteration in algorithmic media. But as for me and my students, we are ARTISTS and ENGINEERS and it's important that we CHANGE THE WORLD and SHOW RESULTS.\n",
    "\n",
    "### Simple string transformations\n",
    "\n",
    "The trick is to learn a little bit of Python vocabulary---little bits of syntax and words that you can type along with the predicate expression to make it do interesting things. The first of these we'll look at are *string methods*. Python strings have a number of different methods which, when called on a string, return a copy of that string with a simple transformation applied to it. These are helpful for normalizing and cleaning up data, or preparing it to be displayed. [Here's the full list](https://docs.python.org/3/library/stdtypes.html#string-methods) if you're interested, but the highlights are below.\n",
    "\n",
    "To make every string in the input lower case, call the `.lower()` method on the temporary variable `line`. This makes Frost look really teen-agery:"
   ]
  },
  {
   "cell_type": "code",
   "execution_count": 87,
   "metadata": {
    "scrolled": true
   },
   "outputs": [
    {
     "name": "stdout",
     "output_type": "stream",
     "text": [
      "washington—overcome by the touching contribution, senator roy blunt (r-mo) was reportedly moved to tears friday after reading a constituent’s heartfelt check. “it’s hard not to get choked up when someone takes the time to actually pick up a pen and write out such a sincere contribution by hand,” said blunt, adding that he had been particularly affected by the amount of the check, which he had reread several times. “having spent a decade and a half in washington, it’s so gratifying to know that you’re still reaching the people you were elected to represent back home. i’ll cherish this forever.” at press time, blunt had written back to his constituent to express how much the check had meant and urged him to write again anytime he wanted.\n"
     ]
    }
   ],
   "source": [
    "textify([line.lower() for line in poem])"
   ]
  },
  {
   "cell_type": "markdown",
   "metadata": {},
   "source": [
    "The complement of `.lower()` is `.upper()`, which makes every string uppercase. If Robert Frost ever got REALLY MAD at a poetry reading, it probably sounded like this:"
   ]
  },
  {
   "cell_type": "code",
   "execution_count": 18,
   "metadata": {},
   "outputs": [
    {
     "data": {
      "text/plain": [
       "['WASHINGTON—OVERCOME BY THE TOUCHING CONTRIBUTION, SENATOR ROY BLUNT (R-MO) WAS REPORTEDLY MOVED TO TEARS FRIDAY AFTER READING A CONSTITUENT’S HEARTFELT CHECK. “IT’S HARD NOT TO GET CHOKED UP WHEN SOMEONE TAKES THE TIME TO ACTUALLY PICK UP A PEN AND WRITE OUT SUCH A SINCERE CONTRIBUTION BY HAND,” SAID BLUNT, ADDING THAT HE HAD BEEN PARTICULARLY AFFECTED BY THE AMOUNT OF THE CHECK, WHICH HE HAD REREAD SEVERAL TIMES. “HAVING SPENT A DECADE AND A HALF IN WASHINGTON, IT’S SO GRATIFYING TO KNOW THAT YOU’RE STILL REACHING THE PEOPLE YOU WERE ELECTED TO REPRESENT BACK HOME. I’LL CHERISH THIS FOREVER.” AT PRESS TIME, BLUNT HAD WRITTEN BACK TO HIS CONSTITUENT TO EXPRESS HOW MUCH THE CHECK HAD MEANT AND URGED HIM TO WRITE AGAIN ANYTIME HE WANTED.']"
      ]
     },
     "execution_count": 18,
     "metadata": {},
     "output_type": "execute_result"
    }
   ],
   "source": [
    "[line.upper() for line in poem]"
   ]
  },
  {
   "cell_type": "markdown",
   "metadata": {},
   "source": [
    "The `.title()` method turns the string into Title Case, which makes it look like it was written by Robert Frost, notorious serial killer:"
   ]
  },
  {
   "cell_type": "code",
   "execution_count": 19,
   "metadata": {},
   "outputs": [
    {
     "data": {
      "text/plain": [
       "['Washington—Overcome By The Touching Contribution, Senator Roy Blunt (R-Mo) Was Reportedly Moved To Tears Friday After Reading A Constituent’S Heartfelt Check. “It’S Hard Not To Get Choked Up When Someone Takes The Time To Actually Pick Up A Pen And Write Out Such A Sincere Contribution By Hand,” Said Blunt, Adding That He Had Been Particularly Affected By The Amount Of The Check, Which He Had Reread Several Times. “Having Spent A Decade And A Half In Washington, It’S So Gratifying To Know That You’Re Still Reaching The People You Were Elected To Represent Back Home. I’Ll Cherish This Forever.” At Press Time, Blunt Had Written Back To His Constituent To Express How Much The Check Had Meant And Urged Him To Write Again Anytime He Wanted.']"
      ]
     },
     "execution_count": 19,
     "metadata": {},
     "output_type": "execute_result"
    }
   ],
   "source": [
    "[line.title() for line in poem]"
   ]
  },
  {
   "cell_type": "markdown",
   "metadata": {},
   "source": [
    "And *.replace()* is a fun one. You need to put two comma-separated strings between the parentheses. Python will replace every occurrence of the first string with the second string. To make our poem more colloquial, for example:"
   ]
  },
  {
   "cell_type": "code",
   "execution_count": 88,
   "metadata": {},
   "outputs": [
    {
     "data": {
      "text/plain": [
       "[\"WASHINGTON—Overcome by the touching contribution, Senator Roy Blunt (R-MO) was reportedly moved to tears Friday after reading a constituent’s heartfelt check. “It’s hard not to get choked up when someone takes the time to actually pick up a pen and write out such a sincere contribution by hand,” said Blunt, adding that he had been particularly affected by the amount of the check, which he had reread several times. “Having spent a decade and a half in Washington, it’s so gratifying to know that y'all’re still reaching the people y'all were elected to represent back home. I’ll cherish this forever.” At press time, Blunt had written back to his constituent to express how much the check had meant and urged him to write again anytime he wanted.\"]"
      ]
     },
     "execution_count": 88,
     "metadata": {},
     "output_type": "execute_result"
    }
   ],
   "source": [
    "[line.replace(\"you\", \"y'all\") for line in poem]"
   ]
  },
  {
   "cell_type": "markdown",
   "metadata": {},
   "source": [
    "If you have ever wondered, \"What would this roady poem sound like if you tickled Robert Frost while he read it aloud,\" then you're in luck because Python has answered that question."
   ]
  },
  {
   "cell_type": "code",
   "execution_count": 20,
   "metadata": {},
   "outputs": [
    {
     "name": "stdout",
     "output_type": "stream",
     "text": [
      "WASHINGTON—Overcome by the touching contribution, SenahahaHAHAhator Roy Blunt (R-MO) wahahaHAHAhas reportedly moved to teahahaHAHAhars FridahahaHAHAhay ahahaHAHAhafter reahahaHAHAhading ahahaHAHAha constituent’s heahahaHAHAhartfelt check. “It’s hahahaHAHAhard not to get choked up when someone tahahaHAHAhakes the time to ahahaHAHAhactuahahaHAHAhally pick up ahahaHAHAha pen ahahaHAHAhand write out such ahahaHAHAha sincere contribution by hahahaHAHAhand,” sahahaHAHAhaid Blunt, ahahaHAHAhadding thahahaHAHAhat he hahahaHAHAhad been pahahaHAHAharticulahahaHAHAharly ahahaHAHAhaffected by the ahahaHAHAhamount of the check, which he hahahaHAHAhad rereahahaHAHAhad severahahaHAHAhal times. “HahahaHAHAhaving spent ahahaHAHAha decahahaHAHAhade ahahaHAHAhand ahahaHAHAha hahahaHAHAhalf in WahahaHAHAhashington, it’s so grahahaHAHAhatifying to know thahahaHAHAhat you’re still reahahaHAHAhaching the people you were elected to represent bahahaHAHAhack home. I’ll cherish this forever.” At press time, Blunt hahahaHAHAhad written bahahaHAHAhack to his constituent to express how much the check hahahaHAHAhad meahahaHAHAhant ahahaHAHAhand urged him to write ahahaHAHAhagahahaHAHAhain ahahaHAHAhanytime he wahahaHAHAhanted.\n"
     ]
    }
   ],
   "source": [
    "textify([line.replace(\"a\", \"ahahaHAHAha\") for line in poem])"
   ]
  },
  {
   "cell_type": "markdown",
   "metadata": {},
   "source": [
    "The `.strip()` method is helpful! We used it above to strip off whitespace, but if you give it a string as a parameter (inside the parentheses), it will remove all of the characters inside that string from the beginning and end of every line. This is a convenient way to, e.g., remove punctuation from the ends of lines:"
   ]
  },
  {
   "cell_type": "code",
   "execution_count": 21,
   "metadata": {},
   "outputs": [
    {
     "data": {
      "text/plain": [
       "['WASHINGTON—Overcome by the touching contribution, Senator Roy Blunt (R-MO) was reportedly moved to tears Friday after reading a constituent’s heartfelt check. “It’s hard not to get choked up when someone takes the time to actually pick up a pen and write out such a sincere contribution by hand,” said Blunt, adding that he had been particularly affected by the amount of the check, which he had reread several times. “Having spent a decade and a half in Washington, it’s so gratifying to know that you’re still reaching the people you were elected to represent back home. I’ll cherish this forever.” At press time, Blunt had written back to his constituent to express how much the check had meant and urged him to write again anytime he wanted']"
      ]
     },
     "execution_count": 21,
     "metadata": {},
     "output_type": "execute_result"
    }
   ],
   "source": [
    "[line.strip(\",;.!:—-\") for line in poem]"
   ]
  },
  {
   "cell_type": "markdown",
   "metadata": {},
   "source": [
    "### Appending strings\n",
    "\n",
    "It's easy to add a string constant to each line of the poem using the `+` operator. To append the same string to the end of a line, put `+ \"your string\"` after the variable name in the predicate expression:"
   ]
  },
  {
   "cell_type": "code",
   "execution_count": 39,
   "metadata": {},
   "outputs": [
    {
     "data": {
      "text/plain": [
       "['Rose, harsh rose, [citation needed]',\n",
       " 'marred and with stint of petals, [citation needed]',\n",
       " 'meagre flower, thin, [citation needed]',\n",
       " 'spare of leaf, [citation needed]',\n",
       " ' [citation needed]',\n",
       " 'more precious [citation needed]',\n",
       " 'than a wet rose [citation needed]',\n",
       " 'single on a stem -- [citation needed]',\n",
       " 'you are caught in the drift. [citation needed]',\n",
       " ' [citation needed]',\n",
       " 'Stunted, with small leaf, [citation needed]',\n",
       " 'you are flung on the sand, [citation needed]',\n",
       " 'you are lifted [citation needed]',\n",
       " 'in the crisp sand [citation needed]',\n",
       " 'that drives in the wind. [citation needed]',\n",
       " ' [citation needed]',\n",
       " 'Can the spice-rose [citation needed]',\n",
       " 'drip such acrid fragrance [citation needed]',\n",
       " 'hardened in a leaf? [citation needed]']"
      ]
     },
     "execution_count": 39,
     "metadata": {},
     "output_type": "execute_result"
    }
   ],
   "source": [
    "[line + \" [citation needed]\" for line in poem]"
   ]
  },
  {
   "cell_type": "markdown",
   "metadata": {},
   "source": [
    "To use a string as a prefix, put `\"your string\" +` *before* the variable name in the predicate expression:"
   ]
  },
  {
   "cell_type": "code",
   "execution_count": 42,
   "metadata": {},
   "outputs": [
    {
     "data": {
      "text/plain": [
       "['HEY Rose, harsh rose,',\n",
       " 'HEY marred and with stint of petals,',\n",
       " 'HEY meagre flower, thin,',\n",
       " 'HEY spare of leaf,',\n",
       " 'HEY ',\n",
       " 'HEY more precious',\n",
       " 'HEY than a wet rose',\n",
       " 'HEY single on a stem --',\n",
       " 'HEY you are caught in the drift.',\n",
       " 'HEY ',\n",
       " 'HEY Stunted, with small leaf,',\n",
       " 'HEY you are flung on the sand,',\n",
       " 'HEY you are lifted',\n",
       " 'HEY in the crisp sand',\n",
       " 'HEY that drives in the wind.',\n",
       " 'HEY ',\n",
       " 'HEY Can the spice-rose',\n",
       " 'HEY drip such acrid fragrance',\n",
       " 'HEY hardened in a leaf?']"
      ]
     },
     "execution_count": 42,
     "metadata": {},
     "output_type": "execute_result"
    }
   ],
   "source": [
    "[\"HEY \" + line  for line in poem]"
   ]
  },
  {
   "cell_type": "markdown",
   "metadata": {},
   "source": [
    "Nothing is stopping you from appending a string before *and* after. Nothing. This is America, you're free to do whatever you want."
   ]
  },
  {
   "cell_type": "code",
   "execution_count": 93,
   "metadata": {},
   "outputs": [
    {
     "name": "stdout",
     "output_type": "stream",
     "text": [
      "☛ Two roads diverged in a yellow wood, ☚\n",
      "☛ And sorry I could not travel both ☚\n",
      "☛ And be one traveler, long I stood ☚\n",
      "☛ And looked down one as far as I could ☚\n",
      "☛ To where it bent in the undergrowth; ☚\n",
      "☛  ☚\n",
      "☛ Then took the other, as just as fair, ☚\n",
      "☛ And having perhaps the better claim, ☚\n",
      "☛ Because it was grassy and wanted wear; ☚\n",
      "☛ Though as for that the passing there ☚\n",
      "☛ Had worn them really about the same, ☚\n",
      "☛  ☚\n",
      "☛ And both that morning equally lay ☚\n",
      "☛ In leaves no step had trodden black. ☚\n",
      "☛ Oh, I kept the first for another day! ☚\n",
      "☛ Yet knowing how way leads on to way, ☚\n",
      "☛ I doubted if I should ever come back. ☚\n",
      "☛  ☚\n",
      "☛ I shall be telling this with a sigh ☚\n",
      "☛ Somewhere ages and ages hence: ☚\n",
      "☛ Two roads diverged in a wood, and I— ☚\n",
      "☛ I took the one less travelled by, ☚\n",
      "☛ And that has made all the difference. ☚\n"
     ]
    }
   ],
   "source": [
    "textify([\"☛ \" + line + \" ☚\" for line in poem])"
   ]
  },
  {
   "cell_type": "markdown",
   "metadata": {},
   "source": [
    "### Chaining transformations\n",
    "\n",
    "You may find discover a desire deep inside of you to use *more than one* of these transformations on the predicate expression. \"Impossible,\" says a nearby moustachioed man, monocle popping from his orbital socket. But it can be done! In two ways. First, you can perform the transformation by assigning the result of one list comprehension to a variable, and then using that result in a second list comprehension. For example, to turn this poem into a telegram, we'll first convert it to upper case:"
   ]
  },
  {
   "cell_type": "code",
   "execution_count": 99,
   "metadata": {
    "collapsed": true
   },
   "outputs": [],
   "source": [
    "upper_frost = [line.upper() for line in poem]"
   ]
  },
  {
   "cell_type": "markdown",
   "metadata": {},
   "source": [
    "And then we'll get rid of punctuation at the end of the line:"
   ]
  },
  {
   "cell_type": "code",
   "execution_count": 100,
   "metadata": {},
   "outputs": [],
   "source": [
    "upper_frost_no_punct = [line.strip(\",;.!:—\") for line in upper_frost]"
   ]
  },
  {
   "cell_type": "markdown",
   "metadata": {},
   "source": [
    "And then append the string `STOP` to the end of each line:"
   ]
  },
  {
   "cell_type": "code",
   "execution_count": 101,
   "metadata": {},
   "outputs": [
    {
     "data": {
      "text/plain": [
       "['WASHINGTON—OVERCOME BY THE TOUCHING CONTRIBUTION, SENATOR ROY BLUNT (R-MO) WAS REPORTEDLY MOVED TO TEARS FRIDAY AFTER READING A CONSTITUENT’S HEARTFELT CHECK. “IT’S HARD NOT TO GET CHOKED UP WHEN SOMEONE TAKES THE TIME TO ACTUALLY PICK UP A PEN AND WRITE OUT SUCH A SINCERE CONTRIBUTION BY HAND,” SAID BLUNT, ADDING THAT HE HAD BEEN PARTICULARLY AFFECTED BY THE AMOUNT OF THE CHECK, WHICH HE HAD REREAD SEVERAL TIMES. “HAVING SPENT A DECADE AND A HALF IN WASHINGTON, IT’S SO GRATIFYING TO KNOW THAT YOU’RE STILL REACHING THE PEOPLE YOU WERE ELECTED TO REPRESENT BACK HOME. I’LL CHERISH THIS FOREVER.” AT PRESS TIME, BLUNT HAD WRITTEN BACK TO HIS CONSTITUENT TO EXPRESS HOW MUCH THE CHECK HAD MEANT AND URGED HIM TO WRITE AGAIN ANYTIME HE WANTED STOP']"
      ]
     },
     "execution_count": 101,
     "metadata": {},
     "output_type": "execute_result"
    }
   ],
   "source": [
    "[line + \" STOP\" for line in upper_frost_no_punct]"
   ]
  },
  {
   "cell_type": "markdown",
   "metadata": {},
   "source": [
    "Not bad, but sort of inconvenient! You can actually write that whole thing using *one* expression. Any of those weird methods (`.lower()`, `.upper()`, etc.) mentioned above can be *chained*: you can attach them not just to `line` but to any other expression you made with `line`. Likewise, the `+` operator can be used with `line` but also any expression that *results from* performing a transformation on `line`. For example, you can rewrite the three list comprehensions above using one list comprehension with chained operators:"
   ]
  },
  {
   "cell_type": "code",
   "execution_count": 107,
   "metadata": {},
   "outputs": [
    {
     "data": {
      "text/plain": [
       "['WASHINGTON—OVERCOME BY THE TOUCHING CONTRIBUTION, SENATOR ROY BLUNT (R-MO) WAS REPORTEDLY MOVED TO TEARS FRIDAY AFTER READING A CONSTITUENT’S HEARTFELT CHECK. “IT’S HARD NOT TO GET CHOKED UP WHEN SOMEONE TAKES THE TIME TO ACTUALLY PICK UP A PEN AND WRITE OUT SUCH A SINCERE CONTRIBUTION BY HAND,” SAID BLUNT, ADDING THAT HE HAD BEEN PARTICULARLY AFFECTED BY THE AMOUNT OF THE CHECK, WHICH HE HAD REREAD SEVERAL TIMES. “HAVING SPENT A DECADE AND A HALF IN WASHINGTON, IT’S SO GRATIFYING TO KNOW THAT YOU’RE STILL REACHING THE PEOPLE YOU WERE ELECTED TO REPRESENT BACK HOME. I’LL CHERISH THIS FOREVER.” AT PRESS TIME, BLUNT HAD WRITTEN BACK TO HIS CONSTITUENT TO EXPRESS HOW MUCH THE CHECK HAD MEANT AND URGED HIM TO WRITE AGAIN ANYTIME HE WANTED STOP']"
      ]
     },
     "execution_count": 107,
     "metadata": {},
     "output_type": "execute_result"
    }
   ],
   "source": [
    "[line.upper().strip(\",;.!:—\") + \" STOP\" for line in poem]"
   ]
  },
  {
   "cell_type": "markdown",
   "metadata": {},
   "source": [
    "This is especially useful for multiple replacements. Here's the Swedish Chef version:"
   ]
  },
  {
   "cell_type": "code",
   "execution_count": 106,
   "metadata": {
    "scrolled": true
   },
   "outputs": [
    {
     "name": "stdout",
     "output_type": "stream",
     "text": [
      "WASHINGTON—Ovörcomö by thö touchöng contröbutöon, Sönötor Roy Blunt (R-MO) wös röportödly movöd to töörs Frödöy öftör röödöng ö constötuönt’s höörtfölt chöck. “It’s hörd not to göt choköd up whön somöonö tökös thö tömö to öctuölly pöck up ö pön önd wrötö out such ö söncörö contröbutöon by hönd,” sööd Blunt, öddöng thöt hö höd böön pörtöculörly öfföctöd by thö ömount of thö chöck, whöch hö höd rörööd sövöröl tömös. “Hövöng spönt ö döcödö önd ö hölf ön Wöshöngton, öt’s so grötöfyöng to know thöt you’rö stöll rööchöng thö pöoplö you wörö ölöctöd to röprösönt böck homö. I’ll chörösh thös forövör.” At pröss tömö, Blunt höd wröttön böck to hös constötuönt to öxpröss how much thö chöck höd möönt önd urgöd höm to wrötö ögöön önytömö hö wöntöd.\n"
     ]
    }
   ],
   "source": [
    "textify([line.replace(\"i\", \"ö\").replace(\"e\", \"ö\").replace(\"a\", \"ö\") for line in poem])"
   ]
  },
  {
   "cell_type": "markdown",
   "metadata": {},
   "source": [
    "### String slices\n",
    "\n",
    "Let's say that you just want the first five letters of each line, not the whole thing. Python's handy *string slice* syntax makes this a breeze. Just put a colon surrounded by a pair of brackets next to the string that you want to slice (`[:]`). To the right of the colon, put the number of characters from the beginning of the string that you want to get, like so:"
   ]
  },
  {
   "cell_type": "code",
   "execution_count": 154,
   "metadata": {},
   "outputs": [
    {
     "data": {
      "text/plain": [
       "['Two r',\n",
       " 'And s',\n",
       " 'And b',\n",
       " 'And l',\n",
       " 'To wh',\n",
       " '',\n",
       " 'Then ',\n",
       " 'And h',\n",
       " 'Becau',\n",
       " 'Thoug',\n",
       " 'Had w',\n",
       " '',\n",
       " 'And b',\n",
       " 'In le',\n",
       " 'Oh, I',\n",
       " 'Yet k',\n",
       " 'I dou',\n",
       " '',\n",
       " 'I sha',\n",
       " 'Somew',\n",
       " 'Two r',\n",
       " 'I too',\n",
       " 'And t']"
      ]
     },
     "execution_count": 154,
     "metadata": {},
     "output_type": "execute_result"
    }
   ],
   "source": [
    "[line[:5] for line in poem]"
   ]
  },
  {
   "cell_type": "markdown",
   "metadata": {},
   "source": [
    "You can also easily get just the portion of the string starting with a particular index up to the end of the line by putting a number to the *left* of the colon:"
   ]
  },
  {
   "cell_type": "code",
   "execution_count": 48,
   "metadata": {},
   "outputs": [
    {
     "name": "stdout",
     "output_type": "stream",
     "text": [
      "\n",
      "tint of petals,\n",
      "in,\n",
      "\n",
      "\n",
      "\n",
      "\n",
      "--\n",
      " the drift.\n",
      "\n",
      "ll leaf,\n",
      "the sand,\n",
      "\n",
      "\n",
      "e wind.\n",
      "\n",
      "e\n",
      "ragrance\n",
      "f?\n"
     ]
    }
   ],
   "source": [
    "textify([line[17:]  for line in poem])"
   ]
  },
  {
   "cell_type": "markdown",
   "metadata": {},
   "source": [
    "This gives you (somewhat unintuitively) everything from the seventeenth character of each line, *not including* that seventeenth character, up to the end of the string.\n",
    "\n",
    "If you use *negative* numbers for either of the indices, Python counts from the end of the string instead of the beginning. So to get the *last* five characters of each line:"
   ]
  },
  {
   "cell_type": "code",
   "execution_count": 49,
   "metadata": {},
   "outputs": [
    {
     "data": {
      "text/plain": [
       "['rose,',\n",
       " 'tals,',\n",
       " 'thin,',\n",
       " 'leaf,',\n",
       " '',\n",
       " 'cious',\n",
       " ' rose',\n",
       " 'em --',\n",
       " 'rift.',\n",
       " '',\n",
       " 'leaf,',\n",
       " 'sand,',\n",
       " 'ifted',\n",
       " ' sand',\n",
       " 'wind.',\n",
       " '',\n",
       " '-rose',\n",
       " 'rance',\n",
       " 'leaf?']"
      ]
     },
     "execution_count": 49,
     "metadata": {},
     "output_type": "execute_result"
    }
   ],
   "source": [
    "[line[-5:] for line in poem]"
   ]
  },
  {
   "cell_type": "markdown",
   "metadata": {},
   "source": [
    "Or everything up to eight characters from the end:"
   ]
  },
  {
   "cell_type": "code",
   "execution_count": 50,
   "metadata": {},
   "outputs": [
    {
     "data": {
      "text/plain": [
       "['Rose, har',\n",
       " 'marred and with stint of',\n",
       " 'meagre flowe',\n",
       " 'spare ',\n",
       " '',\n",
       " 'more ',\n",
       " 'than a ',\n",
       " 'single on a',\n",
       " 'you are caught in th',\n",
       " '',\n",
       " 'Stunted, with sma',\n",
       " 'you are flung on t',\n",
       " 'you ar',\n",
       " 'in the cr',\n",
       " 'that drives in t',\n",
       " '',\n",
       " 'Can the sp',\n",
       " 'drip such acrid f',\n",
       " 'hardened in']"
      ]
     },
     "execution_count": 50,
     "metadata": {},
     "output_type": "execute_result"
    }
   ],
   "source": [
    "[line[:-8] for line in poem]"
   ]
  },
  {
   "cell_type": "markdown",
   "metadata": {},
   "source": [
    "You can use indices on *both* sides of the colon to specify where to stop and where to end. So everything from the tenth character up to the tenth from last character, printed nicely:"
   ]
  },
  {
   "cell_type": "code",
   "execution_count": 51,
   "metadata": {},
   "outputs": [
    {
     "name": "stdout",
     "output_type": "stream",
     "text": [
      "\n",
      " with stint \n",
      "\n",
      "\n",
      "\n",
      "\n",
      "\n",
      "\n",
      "ught in \n",
      "\n",
      "ith s\n",
      "ung on\n",
      "\n",
      "\n",
      "s in\n",
      "\n",
      "\n",
      "acrid\n",
      "\n"
     ]
    }
   ],
   "source": [
    "textify([line[10:-10] for line in poem])"
   ]
  },
  {
   "cell_type": "markdown",
   "metadata": {},
   "source": [
    "## The Joy of Randomness\n",
    "\n",
    "From [The Cut-Up Method of Bryon Gysin](http://www.ubu.com/papers/burroughs_gysin.html):\n",
    "\n",
    "> Take any poet or writer you fancy. Here, say, or poems you have read over many times. The words have lost meaning and life through years of repetition. Now take the poem and type out selected passages. Fill a page with excerpts. Now cut the page. You have a new poem. As many poems as you like. As many Shakespeare Rimbaud poems as you like. Tristan Tzara said: “Poetry is for everyone.” And André Breton called him a cop and expelled him from the movement.\n",
    "\n",
    "Let's make a really simple cut-up in Python. To do this, we'll need some way to arrange sections of the text at random. For our purposes, the unit of the cut-up will be the line. Python has a helpful module, `random`, which has a handful of extremely useful functions for getting called a cop and getting expelled from the movement by André Breton. To use it, run the cell below:"
   ]
  },
  {
   "cell_type": "code",
   "execution_count": 26,
   "metadata": {
    "collapsed": true
   },
   "outputs": [],
   "source": [
    "import random"
   ]
  },
  {
   "cell_type": "markdown",
   "metadata": {},
   "source": [
    "The `random.choice()` function evaluates to a single randomly-selected item from a list. You can use this to simulate a single-card Tarot reading, let's say. In the cell below I defined a list of the Major Arcana:"
   ]
  },
  {
   "cell_type": "code",
   "execution_count": 27,
   "metadata": {
    "collapsed": true
   },
   "outputs": [],
   "source": [
    "major_arcana = [\"The Fool\",\n",
    "               \"The Magician\",\n",
    "               \"The High Priestess\",\n",
    "               \"The Empress\",\n",
    "               \"The Emperor\",\n",
    "               \"The Hierophant\",\n",
    "               \"The Lovers\", \n",
    "               \"The Chariot\",\n",
    "               \"Strength\",\n",
    "               \"The Hermit\",\n",
    "               \"Wheel of Fortune\",\n",
    "               \"Justice\",\n",
    "               \"The Hanged Man\",\n",
    "               \"Death\",\n",
    "               \"Temperance\",\n",
    "               \"The Devil\",\n",
    "               \"The Tower\",\n",
    "               \"The Star\",\n",
    "               \"The Moon\",\n",
    "               \"The Sun\",\n",
    "               \"Judgment\",\n",
    "               \"The World\"]"
   ]
  },
  {
   "cell_type": "markdown",
   "metadata": {},
   "source": [
    "And now we can use that list in `random.choice()`:"
   ]
  },
  {
   "cell_type": "code",
   "execution_count": 28,
   "metadata": {},
   "outputs": [
    {
     "data": {
      "text/plain": [
       "'The Moon'"
      ]
     },
     "execution_count": 28,
     "metadata": {},
     "output_type": "execute_result"
    }
   ],
   "source": [
    "random.choice(major_arcana)"
   ]
  },
  {
   "cell_type": "markdown",
   "metadata": {},
   "source": [
    "> Exercise: Modify the cell above so that half of the time it draws the card as \"reversed\"; i.e., running the cell should result in Python displaying `The Sun, reversed` (or whatever other card is drawn) half the time, and `The Sun` the other half.\n",
    "\n",
    "More germane to our interests, you can put a list comprehension between those parentheses and get a random line from this road poem we're apparently so obsessed with:"
   ]
  },
  {
   "cell_type": "code",
   "execution_count": 83,
   "metadata": {},
   "outputs": [
    {
     "data": {
      "text/plain": [
       "'WASHINGTON—Overcome by the touching contribution, Senator Roy Blunt (R-MO) was reportedly moved to tears Friday after reading a constituent’s heartfelt check. “It’s hard not to get choked up when someone takes the time to actually pick up a pen and write out such a sincere contribution by hand,” said Blunt, adding that he had been particularly affected by the amount of the check, which he had reread several times. “Having spent a decade and a half in Washington, it’s so gratifying to know that you’re still reaching the people you were elected to represent back home. I’ll cherish this forever.” At press time, Blunt had written back to his constituent to express how much the check had meant and urged him to write again anytime he wanted.'"
      ]
     },
     "execution_count": 83,
     "metadata": {},
     "output_type": "execute_result"
    }
   ],
   "source": [
    "random.choice([line.strip() for line in open(\"senator.txt\")])"
   ]
  },
  {
   "cell_type": "markdown",
   "metadata": {},
   "source": [
    "The `random.sample()` function randomly selects a number of items from whatever list you pass to it. The list should be the first parameter, and the second parameter should be a number. So, to get five random major arcana:"
   ]
  },
  {
   "cell_type": "code",
   "execution_count": 30,
   "metadata": {},
   "outputs": [
    {
     "data": {
      "text/plain": [
       "['The Sun', 'The Hanged Man', 'The High Priestess', 'The Star', 'The Emperor']"
      ]
     },
     "execution_count": 30,
     "metadata": {},
     "output_type": "execute_result"
    }
   ],
   "source": [
    "random.sample(major_arcana, 5)"
   ]
  },
  {
   "cell_type": "markdown",
   "metadata": {},
   "source": [
    "Or fourteen random lines of Shakespeare's Sonnets:"
   ]
  },
  {
   "cell_type": "code",
   "execution_count": 31,
   "metadata": {},
   "outputs": [
    {
     "ename": "FileNotFoundError",
     "evalue": "[Errno 2] No such file or directory: 'sonnets.txt'",
     "output_type": "error",
     "traceback": [
      "\u001b[0;31m---------------------------------------------------------------------------\u001b[0m",
      "\u001b[0;31mFileNotFoundError\u001b[0m                         Traceback (most recent call last)",
      "\u001b[0;32m<ipython-input-31-de3045fbb9df>\u001b[0m in \u001b[0;36m<module>\u001b[0;34m()\u001b[0m\n\u001b[0;32m----> 1\u001b[0;31m \u001b[0mrandom\u001b[0m\u001b[0;34m.\u001b[0m\u001b[0msample\u001b[0m\u001b[0;34m(\u001b[0m\u001b[0;34m[\u001b[0m\u001b[0mline\u001b[0m\u001b[0;34m.\u001b[0m\u001b[0mstrip\u001b[0m\u001b[0;34m(\u001b[0m\u001b[0;34m)\u001b[0m \u001b[0;32mfor\u001b[0m \u001b[0mline\u001b[0m \u001b[0;32min\u001b[0m \u001b[0mopen\u001b[0m\u001b[0;34m(\u001b[0m\u001b[0;34m\"sonnets.txt\"\u001b[0m\u001b[0;34m)\u001b[0m\u001b[0;34m]\u001b[0m\u001b[0;34m,\u001b[0m \u001b[0;36m14\u001b[0m\u001b[0;34m)\u001b[0m\u001b[0;34m\u001b[0m\u001b[0m\n\u001b[0m",
      "\u001b[0;31mFileNotFoundError\u001b[0m: [Errno 2] No such file or directory: 'sonnets.txt'"
     ]
    }
   ],
   "source": [
    "random.sample([line.strip() for line in open(\"sonnets.txt\")], 14)"
   ]
  },
  {
   "cell_type": "markdown",
   "metadata": {},
   "source": [
    "The following function takes a list and evaluates to the *entire list* in random order:"
   ]
  },
  {
   "cell_type": "code",
   "execution_count": 32,
   "metadata": {
    "collapsed": true
   },
   "outputs": [],
   "source": [
    "def shuffled(t):\n",
    "    return random.sample(t, k=len(t))"
   ]
  },
  {
   "cell_type": "markdown",
   "metadata": {},
   "source": [
    "So now you can compare sea roses to spice roses in completely random order:"
   ]
  },
  {
   "cell_type": "code",
   "execution_count": 82,
   "metadata": {},
   "outputs": [
    {
     "name": "stdout",
     "output_type": "stream",
     "text": [
      "WASHINGTON—Overcome by the touching contribution, Senator Roy Blunt (R-MO) was reportedly moved to tears Friday after reading a constituent’s heartfelt check. “It’s hard not to get choked up when someone takes the time to actually pick up a pen and write out such a sincere contribution by hand,” said Blunt, adding that he had been particularly affected by the amount of the check, which he had reread several times. “Having spent a decade and a half in Washington, it’s so gratifying to know that you’re still reaching the people you were elected to represent back home. I’ll cherish this forever.” At press time, Blunt had written back to his constituent to express how much the check had meant and urged him to write again anytime he wanted.\n"
     ]
    }
   ],
   "source": [
    "textify (shuffled([line.strip() for line in open(\"senator.txt\")]))"
   ]
  },
  {
   "cell_type": "markdown",
   "metadata": {},
   "source": [
    "The `shuffled()` function can go right inside the `textify()` or `exporttext()` functions defined earlier. Here's the road not taken in random order, printed out all nice. (Make sure to run the cell from earlier that defines the `poem` variable.)"
   ]
  },
  {
   "cell_type": "code",
   "execution_count": 80,
   "metadata": {},
   "outputs": [
    {
     "name": "stdout",
     "output_type": "stream",
     "text": [
      "WASHINGTON—Overcome by the touching contribution, Senator Roy Blunt (R-MO) was reportedly moved to tears Friday after reading a constituent’s heartfelt check. “It’s hard not to get choked up when someone takes the time to actually pick up a pen and write out such a sincere contribution by hand,” said Blunt, adding that he had been particularly affected by the amount of the check, which he had reread several times. “Having spent a decade and a half in Washington, it’s so gratifying to know that you’re still reaching the people you were elected to represent back home. I’ll cherish this forever.” At press time, Blunt had written back to his constituent to express how much the check had meant and urged him to write again anytime he wanted.\n"
     ]
    }
   ],
   "source": [
    "textify(shuffled(poem))"
   ]
  },
  {
   "cell_type": "markdown",
   "metadata": {},
   "source": [
    "### The Joy of Order\n",
    "\n",
    "If randomness isn't your thing, indulge your authoritarian side by imposing order on the world with Python's `sorted()` function. Put a list (or list comprehension) between the parentheses and it'll return the list in alphabetical order. For example, here's *The Road Not Taken* from A to Z:"
   ]
  },
  {
   "cell_type": "code",
   "execution_count": 79,
   "metadata": {
    "scrolled": true
   },
   "outputs": [
    {
     "data": {
      "text/plain": [
       "['WASHINGTON—Overcome by the touching contribution, Senator Roy Blunt (R-MO) was reportedly moved to tears Friday after reading a constituent’s heartfelt check. “It’s hard not to get choked up when someone takes the time to actually pick up a pen and write out such a sincere contribution by hand,” said Blunt, adding that he had been particularly affected by the amount of the check, which he had reread several times. “Having spent a decade and a half in Washington, it’s so gratifying to know that you’re still reaching the people you were elected to represent back home. I’ll cherish this forever.” At press time, Blunt had written back to his constituent to express how much the check had meant and urged him to write again anytime he wanted.']"
      ]
     },
     "execution_count": 79,
     "metadata": {},
     "output_type": "execute_result"
    }
   ],
   "source": [
    "sorted(poem)"
   ]
  },
  {
   "cell_type": "markdown",
   "metadata": {},
   "source": [
    "Sorted middle segments:"
   ]
  },
  {
   "cell_type": "code",
   "execution_count": 78,
   "metadata": {},
   "outputs": [
    {
     "name": "stdout",
     "output_type": "stream",
     "text": [
      "ASHINGTON—Overcome by the touching contribution, Senator Roy Blunt (R-MO) was reportedly moved to tears Friday after reading a constituent’s heartfelt check. “It’s hard not to get choked up when someone takes the time to actually pick up a pen and write out such a sincere contribution by hand,” said Blunt, adding that he had been particularly affected by the amount of the check, which he had reread several times. “Having spent a decade and a half in Washington, it’s so gratifying to know that you’re still reaching the people you were elected to represent back home. I’ll cherish this forever.” At press time, Blunt had written back to his constituent to express how much the check had meant and urged him to write again anytime he wa\n"
     ]
    }
   ],
   "source": [
    "textify(sorted([line[1:-5] for line in poem]))"
   ]
  },
  {
   "cell_type": "markdown",
   "metadata": {},
   "source": [
    "## Filtering lines: the membership expression\n",
    "\n",
    "Anyone who has read a poem knows that some lines are good and some lines are rotten. We just learned how to change lines, now it's time to learn how to throw them out... using the *membership expression*.\n",
    "\n",
    "Any list comprehension can have a little additional part at the end that starts with the keyword `if` followed by an expression that returns either *True* or *False*. There are a handful of expressions that do this, and I'm going to show you a few. First, you can check to see if a string has a particular length with the `len()` function:"
   ]
  },
  {
   "cell_type": "code",
   "execution_count": 37,
   "metadata": {},
   "outputs": [
    {
     "data": {
      "text/plain": [
       "[]"
      ]
     },
     "execution_count": 37,
     "metadata": {},
     "output_type": "execute_result"
    }
   ],
   "source": [
    "[line for line in poem if len(line) == 15]"
   ]
  },
  {
   "cell_type": "markdown",
   "metadata": {},
   "source": [
    "The `==` operator there means *exactly equal to*. This expression gives only the lines in the poem whose length is exactly thirty-three characters. You can also use the less-than operator `<` and the greater-than operator `>`:"
   ]
  },
  {
   "cell_type": "code",
   "execution_count": 77,
   "metadata": {},
   "outputs": [
    {
     "data": {
      "text/plain": [
       "[]"
      ]
     },
     "execution_count": 77,
     "metadata": {},
     "output_type": "execute_result"
    }
   ],
   "source": [
    "[line for line in poem if len(line) < 10]"
   ]
  },
  {
   "cell_type": "code",
   "execution_count": 76,
   "metadata": {},
   "outputs": [
    {
     "data": {
      "text/plain": [
       "['WASHINGTON—Overcome by the touching contribution, Senator Roy Blunt (R-MO) was reportedly moved to tears Friday after reading a constituent’s heartfelt check. “It’s hard not to get choked up when someone takes the time to actually pick up a pen and write out such a sincere contribution by hand,” said Blunt, adding that he had been particularly affected by the amount of the check, which he had reread several times. “Having spent a decade and a half in Washington, it’s so gratifying to know that you’re still reaching the people you were elected to represent back home. I’ll cherish this forever.” At press time, Blunt had written back to his constituent to express how much the check had meant and urged him to write again anytime he wanted.']"
      ]
     },
     "execution_count": 76,
     "metadata": {},
     "output_type": "execute_result"
    }
   ],
   "source": [
    "[line for line in poem if len(line) > 0] #in this case, only lines that are greater thna 0 (no blank lines)"
   ]
  },
  {
   "cell_type": "markdown",
   "metadata": {},
   "source": [
    "The example with the less-than operator is especially important because (in this case) it gives us all *non-empty* lines. This will make our lives easier in a bit.\n",
    "\n",
    "The `in` operator takes one expression evaluating to a string on the left and another on the right, and returns True if the string on the left occurs somewhere inside of the string on the right. We can use this to filter the poem for lines that contain a particular substring:"
   ]
  },
  {
   "cell_type": "code",
   "execution_count": 75,
   "metadata": {},
   "outputs": [
    {
     "data": {
      "text/plain": [
       "[]"
      ]
     },
     "execution_count": 75,
     "metadata": {},
     "output_type": "execute_result"
    }
   ],
   "source": [
    "[line for line in poem if \"travel\" in line]"
   ]
  },
  {
   "cell_type": "code",
   "execution_count": 74,
   "metadata": {},
   "outputs": [
    {
     "data": {
      "text/plain": [
       "[]"
      ]
     },
     "execution_count": 74,
     "metadata": {},
     "output_type": "execute_result"
    }
   ],
   "source": [
    "[line for line in poem if \"oo\" in line] #lne that has \"oo\" in it "
   ]
  },
  {
   "cell_type": "markdown",
   "metadata": {},
   "source": [
    "We can check to see if a string begins with or ends with another string using that string's `.startswith()` and `.endswith()` methods, respectively:"
   ]
  },
  {
   "cell_type": "code",
   "execution_count": 73,
   "metadata": {},
   "outputs": [
    {
     "data": {
      "text/plain": [
       "[]"
      ]
     },
     "execution_count": 73,
     "metadata": {},
     "output_type": "execute_result"
    }
   ],
   "source": [
    "[line for line in poem if line.startswith(\"And\")]"
   ]
  },
  {
   "cell_type": "code",
   "execution_count": 72,
   "metadata": {},
   "outputs": [
    {
     "data": {
      "text/plain": [
       "['WASHINGTON—Overcome by the touching contribution, Senator Roy Blunt (R-MO) was reportedly moved to tears Friday after reading a constituent’s heartfelt check. “It’s hard not to get choked up when someone takes the time to actually pick up a pen and write out such a sincere contribution by hand,” said Blunt, adding that he had been particularly affected by the amount of the check, which he had reread several times. “Having spent a decade and a half in Washington, it’s so gratifying to know that you’re still reaching the people you were elected to represent back home. I’ll cherish this forever.” At press time, Blunt had written back to his constituent to express how much the check had meant and urged him to write again anytime he wanted.']"
      ]
     },
     "execution_count": 72,
     "metadata": {},
     "output_type": "execute_result"
    }
   ],
   "source": [
    "[line for line in poem if line.endswith(\".\")]"
   ]
  },
  {
   "cell_type": "markdown",
   "metadata": {},
   "source": [
    "Any of these resulting lists can be used with the `textify()` and `exporttext()` functions:"
   ]
  },
  {
   "cell_type": "code",
   "execution_count": 71,
   "metadata": {
    "scrolled": true
   },
   "outputs": [
    {
     "name": "stdout",
     "output_type": "stream",
     "text": [
      "\n"
     ]
    }
   ],
   "source": [
    "textify([line for line in poem if line.startswith(\"I \")])"
   ]
  },
  {
   "cell_type": "markdown",
   "metadata": {},
   "source": [
    "## Selecting lines"
   ]
  },
  {
   "cell_type": "code",
   "execution_count": 70,
   "metadata": {},
   "outputs": [
    {
     "data": {
      "text/plain": [
       "['WASHINGTON—Overcome by the touching contribution, Senator Roy Blunt (R-MO) was reportedly moved to tears Friday after reading a constituent’s heartfelt check. “It’s hard not to get choked up when someone takes the time to actually pick up a pen and write out such a sincere contribution by hand,” said Blunt, adding that he had been particularly affected by the amount of the check, which he had reread several times. “Having spent a decade and a half in Washington, it’s so gratifying to know that you’re still reaching the people you were elected to represent back home. I’ll cherish this forever.” At press time, Blunt had written back to his constituent to express how much the check had meant and urged him to write again anytime he wanted.']"
      ]
     },
     "execution_count": 70,
     "metadata": {},
     "output_type": "execute_result"
    }
   ],
   "source": [
    "sorted([line.strip() for line in open(\"senator.txt\")])[-25:]"
   ]
  },
  {
   "cell_type": "markdown",
   "metadata": {},
   "source": [
    "## Putting it together\n",
    "\n",
    "I want every line of Shakespeare's Sonnets that contains the string \"my love,\" with the lines converted to title case and sorted in alphabetical order:"
   ]
  },
  {
   "cell_type": "code",
   "execution_count": 64,
   "metadata": {},
   "outputs": [],
   "source": [
    "sonnets = [line.strip() for line in open(\"senator.txt\")]"
   ]
  },
  {
   "cell_type": "code",
   "execution_count": 67,
   "metadata": {},
   "outputs": [
    {
     "name": "stdout",
     "output_type": "stream",
     "text": [
      "Washington—Overcome By The Touching Contribution, Senator Roy Blunt (R-Mo) Was Reportedly Moved To Tears Friday After Reading A Constituent’S Heartfelt Check. “It’S Hard Not To Get Choked Up When Someone Takes The Time To Actually Pick Up A Pen And Write Out Such A Sincere Contribution By Hand,” Said Blunt, Adding That He Had Been Particularly Affected By The Amount Of The Check, Which He Had Reread Several Times. “Having Spent A Decade And A Half In Washington, It’S So Gratifying To Know That You’Re Still Reaching The People You Were Elected To Represent Back Home. I’Ll Cherish This Forever.” At Press Time, Blunt Had Written Back To His Constituent To Express How Much The Check Had Meant And Urged Him To Write Again Anytime He Wanted.\n"
     ]
    }
   ],
   "source": [
    "textify(sorted([line.title() for line in sonnets if \"Washington\" in line]))"
   ]
  },
  {
   "cell_type": "markdown",
   "metadata": {},
   "source": [
    "## Combining texts"
   ]
  },
  {
   "cell_type": "code",
   "execution_count": 68,
   "metadata": {},
   "outputs": [],
   "source": [
    "senator_fail = [line.strip() for line in open(\"senator.txt\")] + [line.strip() for line in open(\"senator.txt\")]"
   ]
  },
  {
   "cell_type": "code",
   "execution_count": 81,
   "metadata": {},
   "outputs": [
    {
     "ename": "ValueError",
     "evalue": "Sample larger than population or is negative",
     "output_type": "error",
     "traceback": [
      "\u001b[0;31m---------------------------------------------------------------------------\u001b[0m",
      "\u001b[0;31mValueError\u001b[0m                                Traceback (most recent call last)",
      "\u001b[0;32m<ipython-input-81-874dd757db32>\u001b[0m in \u001b[0;36m<module>\u001b[0;34m()\u001b[0m\n\u001b[0;32m----> 1\u001b[0;31m \u001b[0mtextify\u001b[0m\u001b[0;34m(\u001b[0m\u001b[0mrandom\u001b[0m\u001b[0;34m.\u001b[0m\u001b[0msample\u001b[0m\u001b[0;34m(\u001b[0m\u001b[0msenator_fail\u001b[0m\u001b[0;34m,\u001b[0m \u001b[0;36m8\u001b[0m\u001b[0;34m)\u001b[0m\u001b[0;34m)\u001b[0m\u001b[0;34m\u001b[0m\u001b[0m\n\u001b[0m",
      "\u001b[0;32m/Users/sesa/anaconda/lib/python3.6/random.py\u001b[0m in \u001b[0;36msample\u001b[0;34m(self, population, k)\u001b[0m\n\u001b[1;32m    315\u001b[0m         \u001b[0mn\u001b[0m \u001b[0;34m=\u001b[0m \u001b[0mlen\u001b[0m\u001b[0;34m(\u001b[0m\u001b[0mpopulation\u001b[0m\u001b[0;34m)\u001b[0m\u001b[0;34m\u001b[0m\u001b[0m\n\u001b[1;32m    316\u001b[0m         \u001b[0;32mif\u001b[0m \u001b[0;32mnot\u001b[0m \u001b[0;36m0\u001b[0m \u001b[0;34m<=\u001b[0m \u001b[0mk\u001b[0m \u001b[0;34m<=\u001b[0m \u001b[0mn\u001b[0m\u001b[0;34m:\u001b[0m\u001b[0;34m\u001b[0m\u001b[0m\n\u001b[0;32m--> 317\u001b[0;31m             \u001b[0;32mraise\u001b[0m \u001b[0mValueError\u001b[0m\u001b[0;34m(\u001b[0m\u001b[0;34m\"Sample larger than population or is negative\"\u001b[0m\u001b[0;34m)\u001b[0m\u001b[0;34m\u001b[0m\u001b[0m\n\u001b[0m\u001b[1;32m    318\u001b[0m         \u001b[0mresult\u001b[0m \u001b[0;34m=\u001b[0m \u001b[0;34m[\u001b[0m\u001b[0;32mNone\u001b[0m\u001b[0;34m]\u001b[0m \u001b[0;34m*\u001b[0m \u001b[0mk\u001b[0m\u001b[0;34m\u001b[0m\u001b[0m\n\u001b[1;32m    319\u001b[0m         \u001b[0msetsize\u001b[0m \u001b[0;34m=\u001b[0m \u001b[0;36m21\u001b[0m        \u001b[0;31m# size of a small set minus size of an empty list\u001b[0m\u001b[0;34m\u001b[0m\u001b[0m\n",
      "\u001b[0;31mValueError\u001b[0m: Sample larger than population or is negative"
     ]
    }
   ],
   "source": [
    "textify(random.sample(senator_fail, 8))"
   ]
  },
  {
   "cell_type": "markdown",
   "metadata": {},
   "source": [
    "## Enjambing texts\n",
    "\n",
    "Sometimes a text comes to you that doesn't already have line breaks in it, making these techniques less useful! You can use the `textwrap` module to add line breaks to such texts—or add line breaks at new points for existing texts."
   ]
  },
  {
   "cell_type": "code",
   "execution_count": 51,
   "metadata": {
    "collapsed": true
   },
   "outputs": [],
   "source": [
    "import textwrap"
   ]
  },
  {
   "cell_type": "code",
   "execution_count": 53,
   "metadata": {
    "collapsed": true
   },
   "outputs": [],
   "source": [
    "senator_lines = textwrap.wrap(open(\"senator.txt\").read(), 32)"
   ]
  },
  {
   "cell_type": "code",
   "execution_count": 54,
   "metadata": {},
   "outputs": [
    {
     "name": "stdout",
     "output_type": "stream",
     "text": [
      "sincere contribution by hand,”\n",
      "takes the time to actually pick\n",
      "heartfelt check. “It’s hard not\n",
      "were elected to represent back\n",
      "still reaching the people you\n",
      "Roy Blunt (R-MO) was reportedly\n",
      "home. I’ll cherish this\n",
      "him to write again anytime he\n",
      "moved to tears Friday after\n",
      "the check had meant and urged\n",
      "“Having spent a decade and a\n",
      "forever.” At press time, Blunt\n",
      "had written back to his\n",
      "he had reread several times.\n"
     ]
    }
   ],
   "source": [
    "textify(random.sample(senator_lines, 14))"
   ]
  }
 ],
 "metadata": {
  "kernelspec": {
   "display_name": "Python 3",
   "language": "python",
   "name": "python3"
  },
  "language_info": {
   "codemirror_mode": {
    "name": "ipython",
    "version": 3
   },
   "file_extension": ".py",
   "mimetype": "text/x-python",
   "name": "python",
   "nbconvert_exporter": "python",
   "pygments_lexer": "ipython3",
   "version": "3.6.1"
  }
 },
 "nbformat": 4,
 "nbformat_minor": 2
}
