{
 "cells": [
  {
   "cell_type": "markdown",
   "metadata": {},
   "source": [
    "# The Line\n",
    "\n",
    "By [Allison Parrish](http://www.decontextualize.com/)\n",
    "\n",
    "Note: These notes are still incomplete!\n",
    "\n",
    "Make sure to download [this file](http://rwet.decontextualize.com/texts/plain-text-example-files.zip) and extract the contents to the same directory where you put this notebook."
   ]
  },
  {
   "cell_type": "markdown",
   "metadata": {},
   "source": [
    "## List comprehensions\n",
    "\n",
    "Don't worry if this doesn't make sense at the moment. I just want to have some common vocabulary.\n",
    "\n",
    "A list comprehension in Python is a way to take a list of things—say, numbers, words, or in our case, lines of text in a text file—and manipulate that sequence. A list comprehension looks like this:\n",
    "\n",
    "> `[` *predicate-expression* `for` *temporary-variable-name* `in` *source-list* `if` *membership-expression* `]`\n",
    "\n",
    "That's a lot of weird stuff. Here's a rundown of the parts:\n",
    "\n",
    "* a *source list*, or the list whose values will be transformed or filtered;\n",
    "* a *predicate expression*, to be evaluated for every item in the list;\n",
    "* (optionally) a *membership expression* that determines whether or not an item in the source list will be included in the result of evaluating the list comprehension, based on whether the expression evaluates to True or False; and\n",
    "* a *temporary variable name* by which each value from the source list will be known in the predicate expression and membership expression.\n",
    "\n",
    "Put all that on the back burner for a second. For the most part, in the rest of this notebook, you won't be writing list comprehensions from scratch---you'll be making tweaks to list comprehensions I've already written for you. But having an idea about how they're put together will help you reason about which parts you can change and how you can change them.\n",
    "\n",
    "The list comprehension in the next cell uses a *plain text file* as the source list. The *temporary variable name* is `line` and the *predicate expression* simply removes white space (like space characters, tabs, and newline characters) from the end of the line. Highlight the cell and hit Ctrl+Enter to run it."
   ]
  },
  {
   "cell_type": "code",
   "execution_count": 2,
   "metadata": {
    "scrolled": false
   },
   "outputs": [
    {
     "data": {
      "text/plain": [
       "['WASHINGTON—Overcome by the touching contribution, Senator Roy Blunt (R-MO) was reportedly moved to tears Friday after reading a constituent’s heartfelt check. “It’s hard not to get choked up when someone takes the time to actually pick up a pen and write out such a sincere contribution by hand,” said Blunt, adding that he had been particularly affected by the amount of the check, which he had reread several times. “Having spent a decade and a half in Washington, it’s so gratifying to know that you’re still reaching the people you were elected to represent back home. I’ll cherish this forever.” At press time, Blunt had written back to his constituent to express how much the check had meant and urged him to write again anytime he wanted.']"
      ]
     },
     "execution_count": 2,
     "metadata": {},
     "output_type": "execute_result"
    }
   ],
   "source": [
    "[line.strip() for line in open(\"senator.txt\")]"
   ]
  },
  {
   "cell_type": "markdown",
   "metadata": {},
   "source": [
    "This is a really simple list comprehension: all it does is read in the contents of a text file, line by line, and put those lines into a Python data structure (a list). Not exciting on its own, but it's an important building block.\n",
    "\n",
    "An easy change you can make to this list comprehension is to modify the name of the file between the quotation marks. For example, to show some Robert Frost instead of H.D.:"
   ]
  },
  {
   "cell_type": "code",
   "execution_count": 37,
   "metadata": {},
   "outputs": [
    {
     "data": {
      "text/plain": [
       "['Two roads diverged in a yellow wood,',\n",
       " 'And sorry I could not travel both',\n",
       " 'And be one traveler, long I stood',\n",
       " 'And looked down one as far as I could',\n",
       " 'To where it bent in the undergrowth;',\n",
       " '',\n",
       " 'Then took the other, as just as fair,',\n",
       " 'And having perhaps the better claim,',\n",
       " 'Because it was grassy and wanted wear;',\n",
       " 'Though as for that the passing there',\n",
       " 'Had worn them really about the same,',\n",
       " '',\n",
       " 'And both that morning equally lay',\n",
       " 'In leaves no step had trodden black.',\n",
       " 'Oh, I kept the first for another day!',\n",
       " 'Yet knowing how way leads on to way,',\n",
       " 'I doubted if I should ever come back.',\n",
       " '',\n",
       " 'I shall be telling this with a sigh',\n",
       " 'Somewhere ages and ages hence:',\n",
       " 'Two roads diverged in a wood, and I—',\n",
       " 'I took the one less travelled by,',\n",
       " 'And that has made all the difference.']"
      ]
     },
     "execution_count": 37,
     "metadata": {},
     "output_type": "execute_result"
    }
   ],
   "source": [
    "[line.strip() for line in open(\"frost.txt\")]"
   ]
  },
  {
   "cell_type": "markdown",
   "metadata": {},
   "source": [
    "If you want to experiment with your own texts, [Project Gutenberg](http://www.gutenberg.org/) is a good place to look for plain text files in the public domain. [Why not try some Imagists?](http://www.gutenberg.org/ebooks/30276)\n",
    "\n",
    "If you're not sure what I mean by \"plain text,\" [take a look at this tutorial](http://air.decontextualize.com/plain-text/)."
   ]
  },
  {
   "cell_type": "markdown",
   "metadata": {},
   "source": [
    "## What can you even do with a list comprehension\n",
    "\n",
    "Good question! Before we proceed, run the cell below (Ctrl+Enter)---it defines a few helpful functions for working with the lists that result from list comprehensions."
   ]
  },
  {
   "cell_type": "code",
   "execution_count": 16,
   "metadata": {
    "collapsed": true
   },
   "outputs": [],
   "source": [
    "def textify(t, sep=\"\\n\"):\n",
    "    print(sep.join(t))\n",
    "\n",
    "def exporttext(filename, t, sep=\"\\n\"):\n",
    "    with open(filename, \"w\") as fh:\n",
    "        fh.write(sep.join(t))"
   ]
  },
  {
   "cell_type": "markdown",
   "metadata": {},
   "source": [
    "For our purposes, you can do *four* things with a list comprehension. First, run it on its own:"
   ]
  },
  {
   "cell_type": "code",
   "execution_count": 15,
   "metadata": {
    "scrolled": false
   },
   "outputs": [
    {
     "data": {
      "text/plain": [
       "['Rose, harsh rose,',\n",
       " 'marred and with stint of petals,',\n",
       " 'meagre flower, thin,',\n",
       " 'spare of leaf,',\n",
       " '',\n",
       " 'more precious',\n",
       " 'than a wet rose',\n",
       " 'single on a stem --',\n",
       " 'you are caught in the drift.',\n",
       " '',\n",
       " 'Stunted, with small leaf,',\n",
       " 'you are flung on the sand,',\n",
       " 'you are lifted',\n",
       " 'in the crisp sand',\n",
       " 'that drives in the wind.',\n",
       " '',\n",
       " 'Can the spice-rose',\n",
       " 'drip such acrid fragrance',\n",
       " 'hardened in a leaf?']"
      ]
     },
     "execution_count": 15,
     "metadata": {},
     "output_type": "execute_result"
    }
   ],
   "source": [
    "[line.strip() for line in open(\"sea_rose.txt\")]"
   ]
  },
  {
   "cell_type": "markdown",
   "metadata": {},
   "source": [
    "This displays the underlying Python data structure (a list). All those extra quotation marks, commas and brackets are part of the syntax Python needs to represent the data.\n",
    "\n",
    "Second, you can \"textify\" the list comprehension using the function `textify`, which is defined above. (Make sure you run the cell containing the function definition before you use the function itself.) The `textify` function displays the result of the list comprehension as plain text, which is easy to read and can be copied and pasted into a Facebook update or an e-mail or something."
   ]
  },
  {
   "cell_type": "code",
   "execution_count": 17,
   "metadata": {
    "scrolled": true
   },
   "outputs": [
    {
     "name": "stdout",
     "output_type": "stream",
     "text": [
      "Rose, harsh rose,\n",
      "marred and with stint of petals,\n",
      "meagre flower, thin,\n",
      "spare of leaf,\n",
      "\n",
      "more precious\n",
      "than a wet rose\n",
      "single on a stem --\n",
      "you are caught in the drift.\n",
      "\n",
      "Stunted, with small leaf,\n",
      "you are flung on the sand,\n",
      "you are lifted\n",
      "in the crisp sand\n",
      "that drives in the wind.\n",
      "\n",
      "Can the spice-rose\n",
      "drip such acrid fragrance\n",
      "hardened in a leaf?\n"
     ]
    }
   ],
   "source": [
    "textify([line.strip() for line in open(\"sea_rose.txt\")])"
   ]
  },
  {
   "cell_type": "markdown",
   "metadata": {},
   "source": [
    "Third, you can put the list comprehension in a call to the `exporttext` function (defined above---again, make sure to run the cell containing the function before calling it in the cells below), which takes the result of a list comprehension and writes it to your hard disk as a plain text file. This function takes two parameters: the first is a filename (inside of quotation marks); the second is the list comprehension that you want to write to a file. Run the cell below and look in the directory where this notebook lives: you'll see a file called `sea_rose_copy.txt` that has the same contents as `sea_rose.txt`.\n",
    "\n",
    "Note: Unlike the previous two things, the `exporttext` function doesn't display anything if it works---it just silently does its job."
   ]
  },
  {
   "cell_type": "code",
   "execution_count": 21,
   "metadata": {
    "collapsed": true
   },
   "outputs": [],
   "source": [
    "exporttext(\"sea_rose_copy.txt\", [line.strip() for line in open(\"sea_rose.txt\")])"
   ]
  },
  {
   "cell_type": "markdown",
   "metadata": {},
   "source": [
    "Finally, you can assign the result of the list comprehension to a *variable*. To do this, type a `=` and put the list comprehension on the right side of the `=`, and to the left of the `=`, type a name. Assigning a list comprehension to a variable lets you store the results of the list comprehension for later. You can use the name of the variable anywhere in the notebook where normally you would have put the entire list comprehension. (This is especially helpful for *chaining* list comprehensions that would otherwise be complicated or cumbersome.)\n",
    "\n",
    "Variable names should consist of lowercase letters and underscores only. (The [rules for valid variable names in Python are actually more complicated than this](https://docs.python.org/3/reference/lexical_analysis.html#identifiers) but \"just lowercase letters and underscores\" is a good rule of thumb.)\n",
    "\n",
    "For example, the code in the following cell assigns the result of the list comprehension to a variable called `sea_rose`:"
   ]
  },
  {
   "cell_type": "code",
   "execution_count": 23,
   "metadata": {
    "collapsed": true
   },
   "outputs": [],
   "source": [
    "sea_rose = [line.strip() for line in open(\"sea_rose.txt\")]"
   ]
  },
  {
   "cell_type": "markdown",
   "metadata": {},
   "source": [
    "And now you can use `sea_rose` in calls to `textify` and `exporttext`:"
   ]
  },
  {
   "cell_type": "code",
   "execution_count": 24,
   "metadata": {},
   "outputs": [
    {
     "name": "stdout",
     "output_type": "stream",
     "text": [
      "Rose, harsh rose,\n",
      "marred and with stint of petals,\n",
      "meagre flower, thin,\n",
      "spare of leaf,\n",
      "\n",
      "more precious\n",
      "than a wet rose\n",
      "single on a stem --\n",
      "you are caught in the drift.\n",
      "\n",
      "Stunted, with small leaf,\n",
      "you are flung on the sand,\n",
      "you are lifted\n",
      "in the crisp sand\n",
      "that drives in the wind.\n",
      "\n",
      "Can the spice-rose\n",
      "drip such acrid fragrance\n",
      "hardened in a leaf?\n"
     ]
    }
   ],
   "source": [
    "exporttext(\"sea_rose_another_copy.txt\", sea_rose)\n",
    "textify(sea_rose)"
   ]
  },
  {
   "cell_type": "markdown",
   "metadata": {},
   "source": [
    "Importantly, you can use the variable `sea_rose` as the \"source list\" in a list comprehension:"
   ]
  },
  {
   "cell_type": "code",
   "execution_count": 26,
   "metadata": {
    "scrolled": true
   },
   "outputs": [
    {
     "name": "stdout",
     "output_type": "stream",
     "text": [
      "Rose,\n",
      "marre\n",
      "meagr\n",
      "spare\n",
      "\n",
      "more \n",
      "than \n",
      "singl\n",
      "you a\n",
      "\n",
      "Stunt\n",
      "you a\n",
      "you a\n",
      "in th\n",
      "that \n",
      "\n",
      "Can t\n",
      "drip \n",
      "harde\n"
     ]
    }
   ],
   "source": [
    "textify([line[:5] for line in sea_rose])"
   ]
  },
  {
   "cell_type": "markdown",
   "metadata": {},
   "source": [
    "## Transforming strings: the predicate expression\n",
    "\n",
    "Wait, how did I do that thing with that poem, where the letters are all weird? It's like this weird pomo l=a=n=g=u=a=g=e poetry now. Completely unpublishable, I'll get kicked right out of the Iowa Writer's Workshop. *Very* cool.\n",
    "\n",
    "It turns out you can make changes to the *predicate expression* in order to make changes to the way the text looks in the output. We're modifying the text by *transforming* the strings. There are a handful of really easy things you can do to strings of characters in Python to make the text do weird and interesting things. I'm going to show you a few.\n",
    "\n",
    "First, I'm going to make a variable called `poem` and assign to it the result of reading in that Robert Frost poem. The road one where he decides to take a road, but not another road, and it is very momentous."
   ]
  },
  {
   "cell_type": "code",
   "execution_count": 88,
   "metadata": {
    "collapsed": true
   },
   "outputs": [],
   "source": [
    "poem = [line.strip() for line in open(\"sea_rose.txt\")]"
   ]
  },
  {
   "cell_type": "markdown",
   "metadata": {},
   "source": [
    "What we want to do now is write a list comprehension that transforms the lines in the poem somehow. The key to this is to change the *predicate expression* in a list comprehension. The simplest possible text transformation is nothing at all: just make a new list that looks like the old list in every way."
   ]
  },
  {
   "cell_type": "code",
   "execution_count": 28,
   "metadata": {},
   "outputs": [
    {
     "data": {
      "text/plain": [
       "['Two roads diverged in a yellow wood,',\n",
       " 'And sorry I could not travel both',\n",
       " 'And be one traveler, long I stood',\n",
       " 'And looked down one as far as I could',\n",
       " 'To where it bent in the undergrowth;',\n",
       " '',\n",
       " 'Then took the other, as just as fair,',\n",
       " 'And having perhaps the better claim,',\n",
       " 'Because it was grassy and wanted wear;',\n",
       " 'Though as for that the passing there',\n",
       " 'Had worn them really about the same,',\n",
       " '',\n",
       " 'And both that morning equally lay',\n",
       " 'In leaves no step had trodden black.',\n",
       " 'Oh, I kept the first for another day!',\n",
       " 'Yet knowing how way leads on to way,',\n",
       " 'I doubted if I should ever come back.',\n",
       " '',\n",
       " 'I shall be telling this with a sigh',\n",
       " 'Somewhere ages and ages hence:',\n",
       " 'Two roads diverged in a wood, and I—',\n",
       " 'I took the one less travelled by,',\n",
       " 'And that has made all the difference.']"
      ]
     },
     "execution_count": 28,
     "metadata": {},
     "output_type": "execute_result"
    }
   ],
   "source": [
    "[line for line in poem]"
   ]
  },
  {
   "cell_type": "markdown",
   "metadata": {},
   "source": [
    "That list comprehension basically translates to the following: \"Hey python, hey yes you, python! Take a look at the list of strings in the variable `poem` that I defined earlier. I want you to make a new list, and here's how that new list should look: for every item of that list—let's call the item `line`—put an item with whatever that line is into the new list.\" Python: \"So, uh, make a copy of the list?\" You: \"Yeah I guess basically.\"\n",
    "\n",
    "Another simple transformation is to not do anything with the data in the line at all, and have Python put another string altogether into the new list:"
   ]
  },
  {
   "cell_type": "code",
   "execution_count": 50,
   "metadata": {},
   "outputs": [
    {
     "data": {
      "text/plain": [
       "[\"I'm Robert Frost, howdy howdy howdy\",\n",
       " \"I'm Robert Frost, howdy howdy howdy\",\n",
       " \"I'm Robert Frost, howdy howdy howdy\",\n",
       " \"I'm Robert Frost, howdy howdy howdy\",\n",
       " \"I'm Robert Frost, howdy howdy howdy\",\n",
       " \"I'm Robert Frost, howdy howdy howdy\",\n",
       " \"I'm Robert Frost, howdy howdy howdy\",\n",
       " \"I'm Robert Frost, howdy howdy howdy\",\n",
       " \"I'm Robert Frost, howdy howdy howdy\",\n",
       " \"I'm Robert Frost, howdy howdy howdy\",\n",
       " \"I'm Robert Frost, howdy howdy howdy\",\n",
       " \"I'm Robert Frost, howdy howdy howdy\",\n",
       " \"I'm Robert Frost, howdy howdy howdy\",\n",
       " \"I'm Robert Frost, howdy howdy howdy\",\n",
       " \"I'm Robert Frost, howdy howdy howdy\",\n",
       " \"I'm Robert Frost, howdy howdy howdy\",\n",
       " \"I'm Robert Frost, howdy howdy howdy\",\n",
       " \"I'm Robert Frost, howdy howdy howdy\",\n",
       " \"I'm Robert Frost, howdy howdy howdy\",\n",
       " \"I'm Robert Frost, howdy howdy howdy\",\n",
       " \"I'm Robert Frost, howdy howdy howdy\",\n",
       " \"I'm Robert Frost, howdy howdy howdy\",\n",
       " \"I'm Robert Frost, howdy howdy howdy\"]"
      ]
     },
     "execution_count": 50,
     "metadata": {},
     "output_type": "execute_result"
    }
   ],
   "source": [
    "[\"I'm Robert Frost, howdy howdy howdy\" for line in poem]"
   ]
  },
  {
   "cell_type": "markdown",
   "metadata": {},
   "source": [
    "Neither of these are interesting from anything other than a theoretical perspective, which means if you're a humanities scholar or something you can just stop here and start typing up your monograph on conceptions of identity and iteration in algorithmic media. But as for me and my students, we are ARTISTS and ENGINEERS and it's important that we CHANGE THE WORLD and SHOW RESULTS.\n",
    "\n",
    "### Simple string transformations\n",
    "\n",
    "The trick is to learn a little bit of Python vocabulary---little bits of syntax and words that you can type along with the predicate expression to make it do interesting things. The first of these we'll look at are *string methods*. Python strings have a number of different methods which, when called on a string, return a copy of that string with a simple transformation applied to it. These are helpful for normalizing and cleaning up data, or preparing it to be displayed. [Here's the full list](https://docs.python.org/3/library/stdtypes.html#string-methods) if you're interested, but the highlights are below.\n",
    "\n",
    "To make every string in the input lower case, call the `.lower()` method on the temporary variable `line`. This makes Frost look really teen-agery:"
   ]
  },
  {
   "cell_type": "code",
   "execution_count": 32,
   "metadata": {
    "scrolled": true
   },
   "outputs": [
    {
     "name": "stdout",
     "output_type": "stream",
     "text": [
      "rose, harsh rose,\n",
      "marred and with stint of petals,\n",
      "meagre flower, thin,\n",
      "spare of leaf,\n",
      "\n",
      "more precious\n",
      "than a wet rose\n",
      "single on a stem --\n",
      "you are caught in the drift.\n",
      "\n",
      "stunted, with small leaf,\n",
      "you are flung on the sand,\n",
      "you are lifted\n",
      "in the crisp sand\n",
      "that drives in the wind.\n",
      "\n",
      "can the spice-rose\n",
      "drip such acrid fragrance\n",
      "hardened in a leaf?\n"
     ]
    }
   ],
   "source": [
    "textify([line.lower() for line in poem])"
   ]
  },
  {
   "cell_type": "markdown",
   "metadata": {},
   "source": [
    "The complement of `.lower()` is `.upper()`, which makes every string uppercase. If Robert Frost ever got REALLY MAD at a poetry reading, it probably sounded like this:"
   ]
  },
  {
   "cell_type": "code",
   "execution_count": 55,
   "metadata": {},
   "outputs": [
    {
     "data": {
      "text/plain": [
       "['TWO ROADS DIVERGED IN A YELLOW WOOD,',\n",
       " 'AND SORRY I COULD NOT TRAVEL BOTH',\n",
       " 'AND BE ONE TRAVELER, LONG I STOOD',\n",
       " 'AND LOOKED DOWN ONE AS FAR AS I COULD',\n",
       " 'TO WHERE IT BENT IN THE UNDERGROWTH;',\n",
       " '',\n",
       " 'THEN TOOK THE OTHER, AS JUST AS FAIR,',\n",
       " 'AND HAVING PERHAPS THE BETTER CLAIM,',\n",
       " 'BECAUSE IT WAS GRASSY AND WANTED WEAR;',\n",
       " 'THOUGH AS FOR THAT THE PASSING THERE',\n",
       " 'HAD WORN THEM REALLY ABOUT THE SAME,',\n",
       " '',\n",
       " 'AND BOTH THAT MORNING EQUALLY LAY',\n",
       " 'IN LEAVES NO STEP HAD TRODDEN BLACK.',\n",
       " 'OH, I KEPT THE FIRST FOR ANOTHER DAY!',\n",
       " 'YET KNOWING HOW WAY LEADS ON TO WAY,',\n",
       " 'I DOUBTED IF I SHOULD EVER COME BACK.',\n",
       " '',\n",
       " 'I SHALL BE TELLING THIS WITH A SIGH',\n",
       " 'SOMEWHERE AGES AND AGES HENCE:',\n",
       " 'TWO ROADS DIVERGED IN A WOOD, AND I—',\n",
       " 'I TOOK THE ONE LESS TRAVELLED BY,',\n",
       " 'AND THAT HAS MADE ALL THE DIFFERENCE.']"
      ]
     },
     "execution_count": 55,
     "metadata": {},
     "output_type": "execute_result"
    }
   ],
   "source": [
    "[line.upper() for line in poem]"
   ]
  },
  {
   "cell_type": "markdown",
   "metadata": {},
   "source": [
    "The `.title()` method turns the string into Title Case, which makes it look like it was written by Robert Frost, notorious serial killer:"
   ]
  },
  {
   "cell_type": "code",
   "execution_count": 57,
   "metadata": {},
   "outputs": [
    {
     "data": {
      "text/plain": [
       "['Two Roads Diverged In A Yellow Wood,',\n",
       " 'And Sorry I Could Not Travel Both',\n",
       " 'And Be One Traveler, Long I Stood',\n",
       " 'And Looked Down One As Far As I Could',\n",
       " 'To Where It Bent In The Undergrowth;',\n",
       " '',\n",
       " 'Then Took The Other, As Just As Fair,',\n",
       " 'And Having Perhaps The Better Claim,',\n",
       " 'Because It Was Grassy And Wanted Wear;',\n",
       " 'Though As For That The Passing There',\n",
       " 'Had Worn Them Really About The Same,',\n",
       " '',\n",
       " 'And Both That Morning Equally Lay',\n",
       " 'In Leaves No Step Had Trodden Black.',\n",
       " 'Oh, I Kept The First For Another Day!',\n",
       " 'Yet Knowing How Way Leads On To Way,',\n",
       " 'I Doubted If I Should Ever Come Back.',\n",
       " '',\n",
       " 'I Shall Be Telling This With A Sigh',\n",
       " 'Somewhere Ages And Ages Hence:',\n",
       " 'Two Roads Diverged In A Wood, And I—',\n",
       " 'I Took The One Less Travelled By,',\n",
       " 'And That Has Made All The Difference.']"
      ]
     },
     "execution_count": 57,
     "metadata": {},
     "output_type": "execute_result"
    }
   ],
   "source": [
    "[line.title() for line in poem]"
   ]
  },
  {
   "cell_type": "markdown",
   "metadata": {},
   "source": [
    "And *.replace()* is a fun one. You need to put two comma-separated strings between the parentheses. Python will replace every occurrence of the first string with the second string. To make our poem more colloquial, for example:"
   ]
  },
  {
   "cell_type": "code",
   "execution_count": 34,
   "metadata": {},
   "outputs": [
    {
     "data": {
      "text/plain": [
       "['Rose, harsh rose,',\n",
       " 'marred and with stint of petals,',\n",
       " 'meagre flower, thin,',\n",
       " 'spare of leaf,',\n",
       " '',\n",
       " 'more precious',\n",
       " 'than a wet rose',\n",
       " 'single on a stem --',\n",
       " \"y'all are caught in the drift.\",\n",
       " '',\n",
       " 'Stunted, with small leaf,',\n",
       " \"y'all are flung on the sand,\",\n",
       " \"y'all are lifted\",\n",
       " 'in the crisp sand',\n",
       " 'that drives in the wind.',\n",
       " '',\n",
       " 'Can the spice-rose',\n",
       " 'drip such acrid fragrance',\n",
       " 'hardened in a leaf?']"
      ]
     },
     "execution_count": 34,
     "metadata": {},
     "output_type": "execute_result"
    }
   ],
   "source": [
    "[line.replace(\"you\", \"y'all\") for line in poem]"
   ]
  },
  {
   "cell_type": "markdown",
   "metadata": {},
   "source": [
    "If you have ever wondered, \"What would this roady poem sound like if you tickled Robert Frost while he read it aloud,\" then you're in luck because Python has answered that question."
   ]
  },
  {
   "cell_type": "code",
   "execution_count": 35,
   "metadata": {},
   "outputs": [
    {
     "name": "stdout",
     "output_type": "stream",
     "text": [
      "Rose, hahahaHAHAharsh rose,\n",
      "mahahaHAHAharred ahahaHAHAhand with stint of petahahaHAHAhals,\n",
      "meahahaHAHAhagre flower, thin,\n",
      "spahahaHAHAhare of leahahaHAHAhaf,\n",
      "\n",
      "more precious\n",
      "thahahaHAHAhan ahahaHAHAha wet rose\n",
      "single on ahahaHAHAha stem --\n",
      "you ahahaHAHAhare cahahaHAHAhaught in the drift.\n",
      "\n",
      "Stunted, with smahahaHAHAhall leahahaHAHAhaf,\n",
      "you ahahaHAHAhare flung on the sahahaHAHAhand,\n",
      "you ahahaHAHAhare lifted\n",
      "in the crisp sahahaHAHAhand\n",
      "thahahaHAHAhat drives in the wind.\n",
      "\n",
      "CahahaHAHAhan the spice-rose\n",
      "drip such ahahaHAHAhacrid frahahaHAHAhagrahahaHAHAhance\n",
      "hahahaHAHAhardened in ahahaHAHAha leahahaHAHAhaf?\n"
     ]
    }
   ],
   "source": [
    "textify([line.replace(\"a\", \"ahahaHAHAha\") for line in poem])"
   ]
  },
  {
   "cell_type": "markdown",
   "metadata": {},
   "source": [
    "The `.strip()` method is helpful! We used it above to strip off whitespace, but if you give it a string as a parameter (inside the parentheses), it will remove all of the characters inside that string from the beginning and end of every line. This is a convenient way to, e.g., remove punctuation from the ends of lines:"
   ]
  },
  {
   "cell_type": "code",
   "execution_count": 38,
   "metadata": {},
   "outputs": [
    {
     "data": {
      "text/plain": [
       "['Rose, harsh rose',\n",
       " 'marred and with stint of petals',\n",
       " 'meagre flower, thin',\n",
       " 'spare of leaf',\n",
       " '',\n",
       " 'more precious',\n",
       " 'than a wet rose',\n",
       " 'single on a stem ',\n",
       " 'you are caught in the drift',\n",
       " '',\n",
       " 'Stunted, with small leaf',\n",
       " 'you are flung on the sand',\n",
       " 'you are lifted',\n",
       " 'in the crisp sand',\n",
       " 'that drives in the wind',\n",
       " '',\n",
       " 'Can the spice-rose',\n",
       " 'drip such acrid fragrance',\n",
       " 'hardened in a leaf?']"
      ]
     },
     "execution_count": 38,
     "metadata": {},
     "output_type": "execute_result"
    }
   ],
   "source": [
    "[line.strip(\",;.!:—-\") for line in poem]"
   ]
  },
  {
   "cell_type": "markdown",
   "metadata": {},
   "source": [
    "### Appending strings\n",
    "\n",
    "It's easy to add a string constant to each line of the poem using the `+` operator. To append the same string to the end of a line, put `+ \"your string\"` after the variable name in the predicate expression:"
   ]
  },
  {
   "cell_type": "code",
   "execution_count": 39,
   "metadata": {},
   "outputs": [
    {
     "data": {
      "text/plain": [
       "['Rose, harsh rose, [citation needed]',\n",
       " 'marred and with stint of petals, [citation needed]',\n",
       " 'meagre flower, thin, [citation needed]',\n",
       " 'spare of leaf, [citation needed]',\n",
       " ' [citation needed]',\n",
       " 'more precious [citation needed]',\n",
       " 'than a wet rose [citation needed]',\n",
       " 'single on a stem -- [citation needed]',\n",
       " 'you are caught in the drift. [citation needed]',\n",
       " ' [citation needed]',\n",
       " 'Stunted, with small leaf, [citation needed]',\n",
       " 'you are flung on the sand, [citation needed]',\n",
       " 'you are lifted [citation needed]',\n",
       " 'in the crisp sand [citation needed]',\n",
       " 'that drives in the wind. [citation needed]',\n",
       " ' [citation needed]',\n",
       " 'Can the spice-rose [citation needed]',\n",
       " 'drip such acrid fragrance [citation needed]',\n",
       " 'hardened in a leaf? [citation needed]']"
      ]
     },
     "execution_count": 39,
     "metadata": {},
     "output_type": "execute_result"
    }
   ],
   "source": [
    "[line + \" [citation needed]\" for line in poem]"
   ]
  },
  {
   "cell_type": "markdown",
   "metadata": {},
   "source": [
    "To use a string as a prefix, put `\"your string\" +` *before* the variable name in the predicate expression:"
   ]
  },
  {
   "cell_type": "code",
   "execution_count": 42,
   "metadata": {},
   "outputs": [
    {
     "data": {
      "text/plain": [
       "['HEY Rose, harsh rose,',\n",
       " 'HEY marred and with stint of petals,',\n",
       " 'HEY meagre flower, thin,',\n",
       " 'HEY spare of leaf,',\n",
       " 'HEY ',\n",
       " 'HEY more precious',\n",
       " 'HEY than a wet rose',\n",
       " 'HEY single on a stem --',\n",
       " 'HEY you are caught in the drift.',\n",
       " 'HEY ',\n",
       " 'HEY Stunted, with small leaf,',\n",
       " 'HEY you are flung on the sand,',\n",
       " 'HEY you are lifted',\n",
       " 'HEY in the crisp sand',\n",
       " 'HEY that drives in the wind.',\n",
       " 'HEY ',\n",
       " 'HEY Can the spice-rose',\n",
       " 'HEY drip such acrid fragrance',\n",
       " 'HEY hardened in a leaf?']"
      ]
     },
     "execution_count": 42,
     "metadata": {},
     "output_type": "execute_result"
    }
   ],
   "source": [
    "[\"HEY \" + line  for line in poem]"
   ]
  },
  {
   "cell_type": "markdown",
   "metadata": {},
   "source": [
    "Nothing is stopping you from appending a string before *and* after. Nothing. This is America, you're free to do whatever you want."
   ]
  },
  {
   "cell_type": "code",
   "execution_count": 93,
   "metadata": {},
   "outputs": [
    {
     "name": "stdout",
     "output_type": "stream",
     "text": [
      "☛ Two roads diverged in a yellow wood, ☚\n",
      "☛ And sorry I could not travel both ☚\n",
      "☛ And be one traveler, long I stood ☚\n",
      "☛ And looked down one as far as I could ☚\n",
      "☛ To where it bent in the undergrowth; ☚\n",
      "☛  ☚\n",
      "☛ Then took the other, as just as fair, ☚\n",
      "☛ And having perhaps the better claim, ☚\n",
      "☛ Because it was grassy and wanted wear; ☚\n",
      "☛ Though as for that the passing there ☚\n",
      "☛ Had worn them really about the same, ☚\n",
      "☛  ☚\n",
      "☛ And both that morning equally lay ☚\n",
      "☛ In leaves no step had trodden black. ☚\n",
      "☛ Oh, I kept the first for another day! ☚\n",
      "☛ Yet knowing how way leads on to way, ☚\n",
      "☛ I doubted if I should ever come back. ☚\n",
      "☛  ☚\n",
      "☛ I shall be telling this with a sigh ☚\n",
      "☛ Somewhere ages and ages hence: ☚\n",
      "☛ Two roads diverged in a wood, and I— ☚\n",
      "☛ I took the one less travelled by, ☚\n",
      "☛ And that has made all the difference. ☚\n"
     ]
    }
   ],
   "source": [
    "textify([\"☛ \" + line + \" ☚\" for line in poem])"
   ]
  },
  {
   "cell_type": "markdown",
   "metadata": {},
   "source": [
    "### Chaining transformations\n",
    "\n",
    "You may find discover a desire deep inside of you to use *more than one* of these transformations on the predicate expression. \"Impossible,\" says a nearby moustachioed man, monocle popping from his orbital socket. But it can be done! In two ways. First, you can perform the transformation by assigning the result of one list comprehension to a variable, and then using that result in a second list comprehension. For example, to turn this poem into a telegram, we'll first convert it to upper case:"
   ]
  },
  {
   "cell_type": "code",
   "execution_count": 43,
   "metadata": {
    "collapsed": true
   },
   "outputs": [],
   "source": [
    "upper_frost = [line.upper() for line in poem]"
   ]
  },
  {
   "cell_type": "markdown",
   "metadata": {},
   "source": [
    "And then we'll get rid of punctuation at the end of the line:"
   ]
  },
  {
   "cell_type": "code",
   "execution_count": 44,
   "metadata": {
    "collapsed": true
   },
   "outputs": [],
   "source": [
    "upper_frost_no_punct = [line.strip(\",;.!:—\") for line in upper_frost]"
   ]
  },
  {
   "cell_type": "markdown",
   "metadata": {},
   "source": [
    "And then append the string `STOP` to the end of each line:"
   ]
  },
  {
   "cell_type": "code",
   "execution_count": 45,
   "metadata": {},
   "outputs": [
    {
     "data": {
      "text/plain": [
       "['ROSE, HARSH ROSE STOP',\n",
       " 'MARRED AND WITH STINT OF PETALS STOP',\n",
       " 'MEAGRE FLOWER, THIN STOP',\n",
       " 'SPARE OF LEAF STOP',\n",
       " ' STOP',\n",
       " 'MORE PRECIOUS STOP',\n",
       " 'THAN A WET ROSE STOP',\n",
       " 'SINGLE ON A STEM -- STOP',\n",
       " 'YOU ARE CAUGHT IN THE DRIFT STOP',\n",
       " ' STOP',\n",
       " 'STUNTED, WITH SMALL LEAF STOP',\n",
       " 'YOU ARE FLUNG ON THE SAND STOP',\n",
       " 'YOU ARE LIFTED STOP',\n",
       " 'IN THE CRISP SAND STOP',\n",
       " 'THAT DRIVES IN THE WIND STOP',\n",
       " ' STOP',\n",
       " 'CAN THE SPICE-ROSE STOP',\n",
       " 'DRIP SUCH ACRID FRAGRANCE STOP',\n",
       " 'HARDENED IN A LEAF? STOP']"
      ]
     },
     "execution_count": 45,
     "metadata": {},
     "output_type": "execute_result"
    }
   ],
   "source": [
    "[line + \" STOP\" for line in upper_frost_no_punct]"
   ]
  },
  {
   "cell_type": "markdown",
   "metadata": {},
   "source": [
    "Not bad, but sort of inconvenient! You can actually write that whole thing using *one* expression. Any of those weird methods (`.lower()`, `.upper()`, etc.) mentioned above can be *chained*: you can attach them not just to `line` but to any other expression you made with `line`. Likewise, the `+` operator can be used with `line` but also any expression that *results from* performing a transformation on `line`. For example, you can rewrite the three list comprehensions above using one list comprehension with chained operators:"
   ]
  },
  {
   "cell_type": "code",
   "execution_count": 103,
   "metadata": {},
   "outputs": [
    {
     "data": {
      "text/plain": [
       "['TWO ROADS DIVERGED IN A YELLOW WOOD STOP',\n",
       " 'AND SORRY I COULD NOT TRAVEL BOTH STOP',\n",
       " 'AND BE ONE TRAVELER, LONG I STOOD STOP',\n",
       " 'AND LOOKED DOWN ONE AS FAR AS I COULD STOP',\n",
       " 'TO WHERE IT BENT IN THE UNDERGROWTH STOP',\n",
       " ' STOP',\n",
       " 'THEN TOOK THE OTHER, AS JUST AS FAIR STOP',\n",
       " 'AND HAVING PERHAPS THE BETTER CLAIM STOP',\n",
       " 'BECAUSE IT WAS GRASSY AND WANTED WEAR STOP',\n",
       " 'THOUGH AS FOR THAT THE PASSING THERE STOP',\n",
       " 'HAD WORN THEM REALLY ABOUT THE SAME STOP',\n",
       " ' STOP',\n",
       " 'AND BOTH THAT MORNING EQUALLY LAY STOP',\n",
       " 'IN LEAVES NO STEP HAD TRODDEN BLACK STOP',\n",
       " 'OH, I KEPT THE FIRST FOR ANOTHER DAY STOP',\n",
       " 'YET KNOWING HOW WAY LEADS ON TO WAY STOP',\n",
       " 'I DOUBTED IF I SHOULD EVER COME BACK STOP',\n",
       " ' STOP',\n",
       " 'I SHALL BE TELLING THIS WITH A SIGH STOP',\n",
       " 'SOMEWHERE AGES AND AGES HENCE STOP',\n",
       " 'TWO ROADS DIVERGED IN A WOOD, AND I STOP',\n",
       " 'I TOOK THE ONE LESS TRAVELLED BY STOP',\n",
       " 'AND THAT HAS MADE ALL THE DIFFERENCE STOP']"
      ]
     },
     "execution_count": 103,
     "metadata": {},
     "output_type": "execute_result"
    }
   ],
   "source": [
    "[line.upper().strip(\",;.!:—\") + \" STOP\" for line in poem]"
   ]
  },
  {
   "cell_type": "markdown",
   "metadata": {},
   "source": [
    "This is especially useful for multiple replacements. Here's the Swedish Chef version:"
   ]
  },
  {
   "cell_type": "code",
   "execution_count": 46,
   "metadata": {
    "scrolled": true
   },
   "outputs": [
    {
     "name": "stdout",
     "output_type": "stream",
     "text": [
      "Rosö, hörsh rosö,\n",
      "mörröd önd wöth stönt of pötöls,\n",
      "möögrö flowör, thön,\n",
      "spörö of lööf,\n",
      "\n",
      "morö pröcöous\n",
      "thön ö wöt rosö\n",
      "sönglö on ö stöm --\n",
      "you örö cöught ön thö dröft.\n",
      "\n",
      "Stuntöd, wöth smöll lööf,\n",
      "you örö flung on thö sönd,\n",
      "you örö löftöd\n",
      "ön thö crösp sönd\n",
      "thöt drövös ön thö wönd.\n",
      "\n",
      "Cön thö spöcö-rosö\n",
      "dröp such öcröd frögröncö\n",
      "hördönöd ön ö lööf?\n"
     ]
    }
   ],
   "source": [
    "textify([line.replace(\"i\", \"ö\").replace(\"e\", \"ö\").replace(\"a\", \"ö\") for line in poem])"
   ]
  },
  {
   "cell_type": "markdown",
   "metadata": {},
   "source": [
    "### String slices\n",
    "\n",
    "Let's say that you just want the first five letters of each line, not the whole thing. Python's handy *string slice* syntax makes this a breeze. Just put a colon surrounded by a pair of brackets next to the string that you want to slice (`[:]`). To the right of the colon, put the number of characters from the beginning of the string that you want to get, like so:"
   ]
  },
  {
   "cell_type": "code",
   "execution_count": 154,
   "metadata": {},
   "outputs": [
    {
     "data": {
      "text/plain": [
       "['Two r',\n",
       " 'And s',\n",
       " 'And b',\n",
       " 'And l',\n",
       " 'To wh',\n",
       " '',\n",
       " 'Then ',\n",
       " 'And h',\n",
       " 'Becau',\n",
       " 'Thoug',\n",
       " 'Had w',\n",
       " '',\n",
       " 'And b',\n",
       " 'In le',\n",
       " 'Oh, I',\n",
       " 'Yet k',\n",
       " 'I dou',\n",
       " '',\n",
       " 'I sha',\n",
       " 'Somew',\n",
       " 'Two r',\n",
       " 'I too',\n",
       " 'And t']"
      ]
     },
     "execution_count": 154,
     "metadata": {},
     "output_type": "execute_result"
    }
   ],
   "source": [
    "[line[:5] for line in poem]"
   ]
  },
  {
   "cell_type": "markdown",
   "metadata": {},
   "source": [
    "You can also easily get just the portion of the string starting with a particular index up to the end of the line by putting a number to the *left* of the colon:"
   ]
  },
  {
   "cell_type": "code",
   "execution_count": 48,
   "metadata": {},
   "outputs": [
    {
     "name": "stdout",
     "output_type": "stream",
     "text": [
      "\n",
      "tint of petals,\n",
      "in,\n",
      "\n",
      "\n",
      "\n",
      "\n",
      "--\n",
      " the drift.\n",
      "\n",
      "ll leaf,\n",
      "the sand,\n",
      "\n",
      "\n",
      "e wind.\n",
      "\n",
      "e\n",
      "ragrance\n",
      "f?\n"
     ]
    }
   ],
   "source": [
    "textify([line[17:]  for line in poem])"
   ]
  },
  {
   "cell_type": "markdown",
   "metadata": {},
   "source": [
    "This gives you (somewhat unintuitively) everything from the seventeenth character of each line, *not including* that seventeenth character, up to the end of the string.\n",
    "\n",
    "If you use *negative* numbers for either of the indices, Python counts from the end of the string instead of the beginning. So to get the *last* five characters of each line:"
   ]
  },
  {
   "cell_type": "code",
   "execution_count": 49,
   "metadata": {},
   "outputs": [
    {
     "data": {
      "text/plain": [
       "['rose,',\n",
       " 'tals,',\n",
       " 'thin,',\n",
       " 'leaf,',\n",
       " '',\n",
       " 'cious',\n",
       " ' rose',\n",
       " 'em --',\n",
       " 'rift.',\n",
       " '',\n",
       " 'leaf,',\n",
       " 'sand,',\n",
       " 'ifted',\n",
       " ' sand',\n",
       " 'wind.',\n",
       " '',\n",
       " '-rose',\n",
       " 'rance',\n",
       " 'leaf?']"
      ]
     },
     "execution_count": 49,
     "metadata": {},
     "output_type": "execute_result"
    }
   ],
   "source": [
    "[line[-5:] for line in poem]"
   ]
  },
  {
   "cell_type": "markdown",
   "metadata": {},
   "source": [
    "Or everything up to eight characters from the end:"
   ]
  },
  {
   "cell_type": "code",
   "execution_count": 50,
   "metadata": {},
   "outputs": [
    {
     "data": {
      "text/plain": [
       "['Rose, har',\n",
       " 'marred and with stint of',\n",
       " 'meagre flowe',\n",
       " 'spare ',\n",
       " '',\n",
       " 'more ',\n",
       " 'than a ',\n",
       " 'single on a',\n",
       " 'you are caught in th',\n",
       " '',\n",
       " 'Stunted, with sma',\n",
       " 'you are flung on t',\n",
       " 'you ar',\n",
       " 'in the cr',\n",
       " 'that drives in t',\n",
       " '',\n",
       " 'Can the sp',\n",
       " 'drip such acrid f',\n",
       " 'hardened in']"
      ]
     },
     "execution_count": 50,
     "metadata": {},
     "output_type": "execute_result"
    }
   ],
   "source": [
    "[line[:-8] for line in poem]"
   ]
  },
  {
   "cell_type": "markdown",
   "metadata": {},
   "source": [
    "You can use indices on *both* sides of the colon to specify where to stop and where to end. So everything from the tenth character up to the tenth from last character, printed nicely:"
   ]
  },
  {
   "cell_type": "code",
   "execution_count": 51,
   "metadata": {},
   "outputs": [
    {
     "name": "stdout",
     "output_type": "stream",
     "text": [
      "\n",
      " with stint \n",
      "\n",
      "\n",
      "\n",
      "\n",
      "\n",
      "\n",
      "ught in \n",
      "\n",
      "ith s\n",
      "ung on\n",
      "\n",
      "\n",
      "s in\n",
      "\n",
      "\n",
      "acrid\n",
      "\n"
     ]
    }
   ],
   "source": [
    "textify([line[10:-10] for line in poem])"
   ]
  },
  {
   "cell_type": "markdown",
   "metadata": {},
   "source": [
    "## The Joy of Randomness\n",
    "\n",
    "From [The Cut-Up Method of Bryon Gysin](http://www.ubu.com/papers/burroughs_gysin.html):\n",
    "\n",
    "> Take any poet or writer you fancy. Here, say, or poems you have read over many times. The words have lost meaning and life through years of repetition. Now take the poem and type out selected passages. Fill a page with excerpts. Now cut the page. You have a new poem. As many poems as you like. As many Shakespeare Rimbaud poems as you like. Tristan Tzara said: “Poetry is for everyone.” And André Breton called him a cop and expelled him from the movement.\n",
    "\n",
    "Let's make a really simple cut-up in Python. To do this, we'll need some way to arrange sections of the text at random. For our purposes, the unit of the cut-up will be the line. Python has a helpful module, `random`, which has a handful of extremely useful functions for getting called a cop and getting expelled from the movement by André Breton. To use it, run the cell below:"
   ]
  },
  {
   "cell_type": "code",
   "execution_count": 56,
   "metadata": {
    "collapsed": true
   },
   "outputs": [],
   "source": [
    "import random"
   ]
  },
  {
   "cell_type": "markdown",
   "metadata": {},
   "source": [
    "The `random.choice()` function evaluates to a single randomly-selected item from a list. You can use this to simulate a single-card Tarot reading, let's say. In the cell below I defined a list of the Major Arcana:"
   ]
  },
  {
   "cell_type": "code",
   "execution_count": 57,
   "metadata": {
    "collapsed": true
   },
   "outputs": [],
   "source": [
    "major_arcana = [\"The Fool\",\n",
    "               \"The Magician\",\n",
    "               \"The High Priestess\",\n",
    "               \"The Empress\",\n",
    "               \"The Emperor\",\n",
    "               \"The Hierophant\",\n",
    "               \"The Lovers\", \n",
    "               \"The Chariot\",\n",
    "               \"Strength\",\n",
    "               \"The Hermit\",\n",
    "               \"Wheel of Fortune\",\n",
    "               \"Justice\",\n",
    "               \"The Hanged Man\",\n",
    "               \"Death\",\n",
    "               \"Temperance\",\n",
    "               \"The Devil\",\n",
    "               \"The Tower\",\n",
    "               \"The Star\",\n",
    "               \"The Moon\",\n",
    "               \"The Sun\",\n",
    "               \"Judgment\",\n",
    "               \"The World\"]"
   ]
  },
  {
   "cell_type": "markdown",
   "metadata": {},
   "source": [
    "And now we can use that list in `random.choice()`:"
   ]
  },
  {
   "cell_type": "code",
   "execution_count": 58,
   "metadata": {},
   "outputs": [
    {
     "data": {
      "text/plain": [
       "'The Hanged Man'"
      ]
     },
     "execution_count": 58,
     "metadata": {},
     "output_type": "execute_result"
    }
   ],
   "source": [
    "random.choice(major_arcana)"
   ]
  },
  {
   "cell_type": "markdown",
   "metadata": {},
   "source": [
    "> Exercise: Modify the cell above so that half of the time it draws the card as \"reversed\"; i.e., running the cell should result in Python displaying `The Sun, reversed` (or whatever other card is drawn) half the time, and `The Sun` the other half.\n",
    "\n",
    "More germane to our interests, you can put a list comprehension between those parentheses and get a random line from this road poem we're apparently so obsessed with:"
   ]
  },
  {
   "cell_type": "code",
   "execution_count": 65,
   "metadata": {},
   "outputs": [
    {
     "data": {
      "text/plain": [
       "'And both that morning equally lay'"
      ]
     },
     "execution_count": 65,
     "metadata": {},
     "output_type": "execute_result"
    }
   ],
   "source": [
    "random.choice([line.strip() for line in open(\"frost.txt\")])"
   ]
  },
  {
   "cell_type": "markdown",
   "metadata": {},
   "source": [
    "The `random.sample()` function randomly selects a number of items from whatever list you pass to it. The list should be the first parameter, and the second parameter should be a number. So, to get five random major arcana:"
   ]
  },
  {
   "cell_type": "code",
   "execution_count": 128,
   "metadata": {},
   "outputs": [
    {
     "data": {
      "text/plain": [
       "['The Moon', 'Strength', 'The Lovers', 'Justice', 'The Tower']"
      ]
     },
     "execution_count": 128,
     "metadata": {},
     "output_type": "execute_result"
    }
   ],
   "source": [
    "random.sample(major_arcana, 5)"
   ]
  },
  {
   "cell_type": "markdown",
   "metadata": {},
   "source": [
    "Or fourteen random lines of Shakespeare's Sonnets:"
   ]
  },
  {
   "cell_type": "code",
   "execution_count": 67,
   "metadata": {},
   "outputs": [
    {
     "data": {
      "text/plain": [
       "['The forward violet thus did I chide:',\n",
       " 'And both for my sake lay on me this cross:',\n",
       " 'And yet methinks I have astronomy,',\n",
       " 'But when she saw my woeful state,',\n",
       " 'As thou goest onwards, still will pluck thee back,',\n",
       " 'And purest faith unhappily forsworn,',\n",
       " \"This thou perceiv'st, which makes thy love more strong,\",\n",
       " 'And all those friends which I thought buried.',\n",
       " 'My heart doth plead that thou in him dost lie,--',\n",
       " 'I have no precious time at all to spend;',\n",
       " \"They rightly do inherit heaven's graces,\",\n",
       " 'To side this title is impannelled',\n",
       " 'Now counting best to be with you alone,',\n",
       " '']"
      ]
     },
     "execution_count": 67,
     "metadata": {},
     "output_type": "execute_result"
    }
   ],
   "source": [
    "random.sample([line.strip() for line in open(\"sonnets.txt\")], 14)"
   ]
  },
  {
   "cell_type": "markdown",
   "metadata": {},
   "source": [
    "The following function takes a list and evaluates to the *entire list* in random order:"
   ]
  },
  {
   "cell_type": "code",
   "execution_count": 69,
   "metadata": {
    "collapsed": true
   },
   "outputs": [],
   "source": [
    "def shuffled(t):\n",
    "    return random.sample(t, k=len(t))"
   ]
  },
  {
   "cell_type": "markdown",
   "metadata": {},
   "source": [
    "So now you can compare sea roses to spice roses in completely random order:"
   ]
  },
  {
   "cell_type": "code",
   "execution_count": 90,
   "metadata": {},
   "outputs": [
    {
     "name": "stdout",
     "output_type": "stream",
     "text": [
      "drip such acrid fragrance\n",
      "Can the spice-rose\n",
      "Rose, harsh rose,\n",
      "marred and with stint of petals,\n",
      "\n",
      "than a wet rose\n",
      "\n",
      "you are caught in the drift.\n",
      "in the crisp sand\n",
      "more precious\n",
      "single on a stem --\n",
      "you are flung on the sand,\n",
      "Stunted, with small leaf,\n",
      "\n",
      "you are lifted\n",
      "meagre flower, thin,\n",
      "spare of leaf,\n",
      "hardened in a leaf?\n",
      "that drives in the wind.\n"
     ]
    }
   ],
   "source": [
    "textify (shuffled([line.strip() for line in open(\"sea_rose.txt\")]))"
   ]
  },
  {
   "cell_type": "markdown",
   "metadata": {},
   "source": [
    "The `shuffled()` function can go right inside the `textify()` or `exporttext()` functions defined earlier. Here's the road not taken in random order, printed out all nice. (Make sure to run the cell from earlier that defines the `poem` variable.)"
   ]
  },
  {
   "cell_type": "code",
   "execution_count": 74,
   "metadata": {},
   "outputs": [
    {
     "name": "stdout",
     "output_type": "stream",
     "text": [
      "that drives in the wind.\n",
      "Can the spice-rose\n",
      "meagre flower, thin,\n",
      "than a wet rose\n",
      "\n",
      "you are flung on the sand,\n",
      "\n",
      "Rose, harsh rose,\n",
      "marred and with stint of petals,\n",
      "Stunted, with small leaf,\n",
      "drip such acrid fragrance\n",
      "in the crisp sand\n",
      "single on a stem --\n",
      "hardened in a leaf?\n",
      "you are caught in the drift.\n",
      "you are lifted\n",
      "more precious\n",
      "\n",
      "spare of leaf,\n"
     ]
    }
   ],
   "source": [
    "textify(shuffled(poem))"
   ]
  },
  {
   "cell_type": "markdown",
   "metadata": {},
   "source": [
    "### The Joy of Order\n",
    "\n",
    "If randomness isn't your thing, indulge your authoritarian side by imposing order on the world with Python's `sorted()` function. Put a list (or list comprehension) between the parentheses and it'll return the list in alphabetical order. For example, here's *The Road Not Taken* from A to Z:"
   ]
  },
  {
   "cell_type": "code",
   "execution_count": 170,
   "metadata": {
    "scrolled": true
   },
   "outputs": [
    {
     "data": {
      "text/plain": [
       "['',\n",
       " '',\n",
       " '',\n",
       " 'And be one traveler, long I stood',\n",
       " 'And both that morning equally lay',\n",
       " 'And having perhaps the better claim,',\n",
       " 'And looked down one as far as I could',\n",
       " 'And sorry I could not travel both',\n",
       " 'And that has made all the difference.',\n",
       " 'Because it was grassy and wanted wear;',\n",
       " 'Had worn them really about the same,',\n",
       " 'I doubted if I should ever come back.',\n",
       " 'I shall be telling this with a sigh',\n",
       " 'I took the one less travelled by,',\n",
       " 'In leaves no step had trodden black.',\n",
       " 'Oh, I kept the first for another day!',\n",
       " 'Somewhere ages and ages hence:',\n",
       " 'Then took the other, as just as fair,',\n",
       " 'Though as for that the passing there',\n",
       " 'To where it bent in the undergrowth;',\n",
       " 'Two roads diverged in a wood, and I—',\n",
       " 'Two roads diverged in a yellow wood,',\n",
       " 'Yet knowing how way leads on to way,']"
      ]
     },
     "execution_count": 170,
     "metadata": {},
     "output_type": "execute_result"
    }
   ],
   "source": [
    "sorted(poem)"
   ]
  },
  {
   "cell_type": "markdown",
   "metadata": {},
   "source": [
    "Sorted middle segments:"
   ]
  },
  {
   "cell_type": "code",
   "execution_count": 77,
   "metadata": {},
   "outputs": [
    {
     "name": "stdout",
     "output_type": "stream",
     "text": [
      "\n",
      "\n",
      "\n",
      "an the spice\n",
      "ardened in a \n",
      "arred and with stint of pe\n",
      "eagre flower, \n",
      "han a wet\n",
      "hat drives in the \n",
      "ingle on a st\n",
      "n the crisp\n",
      "ore pre\n",
      "ose, harsh \n",
      "ou are caught in the d\n",
      "ou are flung on the \n",
      "ou are l\n",
      "pare of \n",
      "rip such acrid frag\n",
      "tunted, with small \n"
     ]
    }
   ],
   "source": [
    "textify(sorted([line[1:-5] for line in poem]))"
   ]
  },
  {
   "cell_type": "markdown",
   "metadata": {},
   "source": [
    "## Filtering lines: the membership expression\n",
    "\n",
    "Anyone who has read a poem knows that some lines are good and some lines are rotten. We just learned how to change lines, now it's time to learn how to throw them out... using the *membership expression*.\n",
    "\n",
    "Any list comprehension can have a little additional part at the end that starts with the keyword `if` followed by an expression that returns either *True* or *False*. There are a handful of expressions that do this, and I'm going to show you a few. First, you can check to see if a string has a particular length with the `len()` function:"
   ]
  },
  {
   "cell_type": "code",
   "execution_count": 78,
   "metadata": {},
   "outputs": [
    {
     "data": {
      "text/plain": [
       "['than a wet rose']"
      ]
     },
     "execution_count": 78,
     "metadata": {},
     "output_type": "execute_result"
    }
   ],
   "source": [
    "[line for line in poem if len(line) == 15]"
   ]
  },
  {
   "cell_type": "markdown",
   "metadata": {},
   "source": [
    "The `==` operator there means *exactly equal to*. This expression gives only the lines in the poem whose length is exactly thirty-three characters. You can also use the less-than operator `<` and the greater-than operator `>`:"
   ]
  },
  {
   "cell_type": "code",
   "execution_count": 82,
   "metadata": {},
   "outputs": [
    {
     "data": {
      "text/plain": [
       "['', '', '']"
      ]
     },
     "execution_count": 82,
     "metadata": {},
     "output_type": "execute_result"
    }
   ],
   "source": [
    "[line for line in poem if len(line) < 10]"
   ]
  },
  {
   "cell_type": "code",
   "execution_count": 83,
   "metadata": {},
   "outputs": [
    {
     "data": {
      "text/plain": [
       "['Rose, harsh rose,',\n",
       " 'marred and with stint of petals,',\n",
       " 'meagre flower, thin,',\n",
       " 'spare of leaf,',\n",
       " 'more precious',\n",
       " 'than a wet rose',\n",
       " 'single on a stem --',\n",
       " 'you are caught in the drift.',\n",
       " 'Stunted, with small leaf,',\n",
       " 'you are flung on the sand,',\n",
       " 'you are lifted',\n",
       " 'in the crisp sand',\n",
       " 'that drives in the wind.',\n",
       " 'Can the spice-rose',\n",
       " 'drip such acrid fragrance',\n",
       " 'hardened in a leaf?']"
      ]
     },
     "execution_count": 83,
     "metadata": {},
     "output_type": "execute_result"
    }
   ],
   "source": [
    "[line for line in poem if len(line) > 0] #in this case, only lines that are greater thna 0 (no blank lines)"
   ]
  },
  {
   "cell_type": "markdown",
   "metadata": {},
   "source": [
    "The example with the less-than operator is especially important because (in this case) it gives us all *non-empty* lines. This will make our lives easier in a bit.\n",
    "\n",
    "The `in` operator takes one expression evaluating to a string on the left and another on the right, and returns True if the string on the left occurs somewhere inside of the string on the right. We can use this to filter the poem for lines that contain a particular substring:"
   ]
  },
  {
   "cell_type": "code",
   "execution_count": 201,
   "metadata": {},
   "outputs": [
    {
     "data": {
      "text/plain": [
       "['And sorry I could not travel both',\n",
       " 'And be one traveler, long I stood',\n",
       " 'I took the one less travelled by,']"
      ]
     },
     "execution_count": 201,
     "metadata": {},
     "output_type": "execute_result"
    }
   ],
   "source": [
    "[line for line in poem if \"travel\" in line]"
   ]
  },
  {
   "cell_type": "code",
   "execution_count": 203,
   "metadata": {},
   "outputs": [
    {
     "data": {
      "text/plain": [
       "['Two roads diverged in a yellow wood,',\n",
       " 'And be one traveler, long I stood',\n",
       " 'And looked down one as far as I could',\n",
       " 'Then took the other, as just as fair,',\n",
       " 'Two roads diverged in a wood, and I—',\n",
       " 'I took the one less travelled by,']"
      ]
     },
     "execution_count": 203,
     "metadata": {},
     "output_type": "execute_result"
    }
   ],
   "source": [
    "[line for line in poem if \"oo\" in line] #lne that has \"oo\" in it "
   ]
  },
  {
   "cell_type": "markdown",
   "metadata": {},
   "source": [
    "We can check to see if a string begins with or ends with another string using that string's `.startswith()` and `.endswith()` methods, respectively:"
   ]
  },
  {
   "cell_type": "code",
   "execution_count": 205,
   "metadata": {},
   "outputs": [
    {
     "data": {
      "text/plain": [
       "['And sorry I could not travel both',\n",
       " 'And be one traveler, long I stood',\n",
       " 'And looked down one as far as I could',\n",
       " 'And having perhaps the better claim,',\n",
       " 'And both that morning equally lay',\n",
       " 'And that has made all the difference.']"
      ]
     },
     "execution_count": 205,
     "metadata": {},
     "output_type": "execute_result"
    }
   ],
   "source": [
    "[line for line in poem if line.startswith(\"And\")]"
   ]
  },
  {
   "cell_type": "code",
   "execution_count": 207,
   "metadata": {},
   "outputs": [
    {
     "data": {
      "text/plain": [
       "['In leaves no step had trodden black.',\n",
       " 'I doubted if I should ever come back.',\n",
       " 'And that has made all the difference.']"
      ]
     },
     "execution_count": 207,
     "metadata": {},
     "output_type": "execute_result"
    }
   ],
   "source": [
    "[line for line in poem if line.endswith(\".\")]"
   ]
  },
  {
   "cell_type": "markdown",
   "metadata": {},
   "source": [
    "Any of these resulting lists can be used with the `textify()` and `exporttext()` functions:"
   ]
  },
  {
   "cell_type": "code",
   "execution_count": 214,
   "metadata": {
    "scrolled": true
   },
   "outputs": [
    {
     "name": "stdout",
     "output_type": "stream",
     "text": [
      "I doubted if I should ever come back.\n",
      "I shall be telling this with a sigh\n",
      "I took the one less travelled by,\n"
     ]
    }
   ],
   "source": [
    "textify([line for line in poem if line.startswith(\"I \")])"
   ]
  },
  {
   "cell_type": "markdown",
   "metadata": {},
   "source": [
    "## Selecting lines"
   ]
  },
  {
   "cell_type": "code",
   "execution_count": 217,
   "metadata": {},
   "outputs": [
    {
     "data": {
      "text/plain": [
       "['Yet so they mourn becoming of their woe,',\n",
       " 'Yet then my judgment knew no reason why',\n",
       " \"Yet this abundant issue seem'd to me\",\n",
       " \"Yet this shall I ne'er know, but live in doubt,\",\n",
       " 'Yet this thy praise cannot be so thy praise,',\n",
       " 'Yet what of thee thy poet doth invent',\n",
       " 'Yet what the best is take the worst to be.',\n",
       " 'Yet who knows not conscience is born of love?',\n",
       " 'Yet, do thy worst old Time: despite thy wrong,',\n",
       " 'Yet, in good faith, some say that thee behold,',\n",
       " 'You are my all-the-world, and I must strive',\n",
       " 'You are so strongly in my purpose bred,',\n",
       " 'You had a father: let your son say so.',\n",
       " \"You live in this, and dwell in lovers' eyes.\",\n",
       " 'You should live twice,--in it, and in my rhyme.',\n",
       " 'You still shall live,--such virtue hath my pen,--',\n",
       " 'You to your beauteous blessings add a curse,',\n",
       " 'Your love and pity doth the impression fill,',\n",
       " 'Your monument shall be my gentle verse,',\n",
       " 'Your name from hence immortal life shall have,',\n",
       " 'Your own glass shows you when you look in it.',\n",
       " 'Your shallowest help will hold me up afloat,',\n",
       " \"Yourself again, after yourself's decease,\",\n",
       " 'Yourself to pardon of self-doing crime.',\n",
       " 'if thou wouldst use the strength of all thy state!']"
      ]
     },
     "execution_count": 217,
     "metadata": {},
     "output_type": "execute_result"
    }
   ],
   "source": [
    "sorted([line.strip() for line in open(\"sonnets.txt\")])[-25:]"
   ]
  },
  {
   "cell_type": "markdown",
   "metadata": {},
   "source": [
    "## Putting it together\n",
    "\n",
    "I want every line of Shakespeare's Sonnets that contains the string \"my love,\" with the lines converted to title case and sorted in alphabetical order:"
   ]
  },
  {
   "cell_type": "code",
   "execution_count": 85,
   "metadata": {
    "collapsed": true
   },
   "outputs": [],
   "source": [
    "sonnets = [line.strip() for line in open(\"sonnets.txt\")]"
   ]
  },
  {
   "cell_type": "code",
   "execution_count": 86,
   "metadata": {},
   "outputs": [
    {
     "name": "stdout",
     "output_type": "stream",
     "text": [
      "Against My Love Shall Be As I Am Now,\n",
      "And Then Believe Me, My Love Is As Fair\n",
      "And Yet By Heaven, I Think My Love As Rare,\n",
      "Both Truth And Beauty On My Love Depends;\n",
      "Give My Love Fame Faster Than Time Wastes Life,\n",
      "Hung With The Trophies Of My Lovers Gone,\n",
      "I Cannot Blame Thee, For My Love Thou Usest;\n",
      "I Make My Love Engrafted, To This Store:\n",
      "If I Lose Thee, My Loss Is My Love'S Gain,\n",
      "If Not From My Love'S Breath? The Purple Pride\n",
      "In My Love'S Veins Thou Hast Too Grossly Dy'D.\n",
      "It Is My Love That Keeps Mine Eye Awake:\n",
      "Kind Is My Love To-Day, To-Morrow Kind,\n",
      "Let Me Excuse Thee: Ah! My Love Well Knows\n",
      "Let Not My Love Be Call'D Idolatry,\n",
      "Lord Of My Love, To Whom In Vassalage\n",
      "My Reason, The Physician To My Love,\n",
      "My Sweet Love'S Beauty, Though My Lover'S Life:\n",
      "No Love, My Love, That Thou Mayst True Love Call;\n",
      "O Thou, My Lovely Boy, Who In Thy Power\n",
      "O! Carve Not With Thy Hours My Love'S Fair Brow,\n",
      "O! None But Unthrifts. Dear My Love, You Know,\n",
      "Reserve Them For My Love, Not For Their Rhyme,\n",
      "Rise, Resty Muse, My Love'S Sweet Face Survey,\n",
      "Save That, To Die, I Leave My Love Alone.\n",
      "So Is My Love Still Telling What Is Told.\n",
      "So, Either By Thy Picture Or My Love,\n",
      "Such Civil War Is In My Love And Hate,\n",
      "Such Is My Love, To Thee I So Belong,\n",
      "Take All My Loves, My Love, Yea Take Them All;\n",
      "That In Black Ink My Love May Still Shine Bright.\n",
      "That May Express My Love, Or Thy Dear Merit?\n",
      "That Time Will Come And Take My Love Away.\n",
      "The Worst Was This,--My Love Was My Decay.\n",
      "Then, If For My Love, Thou My Love Receivest,\n",
      "Thus Can My Love Excuse The Slow Offence\n",
      "Thus Far For Love, My Love-Suit, Sweet, Fulfil.\n",
      "When My Love Swears That She Is Made Of Truth,\n",
      "With My Love'S Picture Then My Eye Doth Feast,\n",
      "Yet Him For This My Love No Whit Disdaineth;\n"
     ]
    }
   ],
   "source": [
    "textify(sorted([line.title() for line in sonnets if \"my love\" in line]))"
   ]
  },
  {
   "cell_type": "markdown",
   "metadata": {},
   "source": [
    "## Combining texts"
   ]
  },
  {
   "cell_type": "code",
   "execution_count": 222,
   "metadata": {
    "collapsed": true
   },
   "outputs": [],
   "source": [
    "frost_hd = [line.strip() for line in open(\"frost.txt\")] + [line.strip() for line in open(\"sea_rose.txt\")]"
   ]
  },
  {
   "cell_type": "code",
   "execution_count": 225,
   "metadata": {},
   "outputs": [
    {
     "name": "stdout",
     "output_type": "stream",
     "text": [
      "more precious\n",
      "you are flung on the sand,\n",
      "Rose, harsh rose,\n",
      "\n",
      "you are caught in the drift.\n",
      "Somewhere ages and ages hence:\n",
      "And both that morning equally lay\n",
      "marred and with stint of petals,\n"
     ]
    }
   ],
   "source": [
    "textify(random.sample(frost_hd, 8))"
   ]
  },
  {
   "cell_type": "markdown",
   "metadata": {},
   "source": [
    "## Enjambing texts\n",
    "\n",
    "Sometimes a text comes to you that doesn't already have line breaks in it, making these techniques less useful! You can use the `textwrap` module to add line breaks to such texts—or add line breaks at new points for existing texts."
   ]
  },
  {
   "cell_type": "code",
   "execution_count": 226,
   "metadata": {
    "collapsed": true
   },
   "outputs": [],
   "source": [
    "import textwrap"
   ]
  },
  {
   "cell_type": "code",
   "execution_count": 229,
   "metadata": {
    "collapsed": true
   },
   "outputs": [],
   "source": [
    "nytimes_lines = textwrap.wrap(open(\"nytimes.txt\").read(), 32)"
   ]
  },
  {
   "cell_type": "code",
   "execution_count": 231,
   "metadata": {},
   "outputs": [
    {
     "name": "stdout",
     "output_type": "stream",
     "text": [
      "Student Loan Protections  Food »\n",
      "Care: Health Plans That Nudge\n",
      "Noah.” He will have his debut on\n",
      "Audio  Follow The Daily: iTunes\n",
      "world, imagines a life defined\n",
      "Is a More Prosperous World More\n",
      "to Harness Unused Television\n",
      "18 States Sue Betsy DeVos Over\n",
      "Times     Anatomy of a Scene:\n",
      "converted horse barn in\n",
      "Mother Fervently Tries to\n",
      "operatives known as the\n",
      "Samsung.  More in  The Daily 360\n",
      "ProPublica Partner to Uncover\n"
     ]
    }
   ],
   "source": [
    "textify(random.sample(nytimes_lines, 14))"
   ]
  }
 ],
 "metadata": {
  "kernelspec": {
   "display_name": "Python 3",
   "language": "python",
   "name": "python3"
  },
  "language_info": {
   "codemirror_mode": {
    "name": "ipython",
    "version": 3
   },
   "file_extension": ".py",
   "mimetype": "text/x-python",
   "name": "python",
   "nbconvert_exporter": "python",
   "pygments_lexer": "ipython3",
   "version": "3.6.1"
  }
 },
 "nbformat": 4,
 "nbformat_minor": 2
}
